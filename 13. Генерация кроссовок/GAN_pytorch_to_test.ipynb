{
  "cells": [
    {
      "cell_type": "markdown",
      "metadata": {
        "id": "QQg-V9XQ2T_f"
      },
      "source": [
        "# Generative Adversarial Networks\n",
        "\n",
        "Generative Adversarial Networks (GANs) are an approach to generative modeling based on deep learning methods.\n",
        "\n",
        "The standard problem settings for GANs are generation of photorealistic images and image-to-image translation tasks (translating photos of summer to winter, day to night etc.).\n",
        "\n",
        "In this task you will familiarize yourself with both these problems while trying to create fake images of sneakers.\n",
        "\n",
        "As GANs still do have certain limitations about generating large images, the task is decomposed into two: first, use a simple GAN to generate a bunch of low resolution images from noise, then upscale them using another generative model."
      ]
    },
    {
      "cell_type": "markdown",
      "metadata": {
        "id": "i-1cXZG02T_g"
      },
      "source": [
        "This notebook is built around [PyTorch](https://pytorch.org/) and [Lightning](https://pytorchlightning.ai/)."
      ]
    },
    {
      "cell_type": "code",
      "execution_count": 2,
      "metadata": {
        "id": "E4XlI2qi2T_g"
      },
      "outputs": [],
      "source": [
        "%%bash\n",
        "\n",
        "if [ ! -d data/ ]; then\n",
        "    curl -sO 'https://code.mipt.ru/courses-public/cv/storage/-/raw/tasks/sneaker-generation/data.zip'\n",
        "    unzip -qo data.zip\n",
        "fi"
      ]
    },
    {
      "cell_type": "code",
      "source": [
        "!pip install pytorch_lightning"
      ],
      "metadata": {
        "colab": {
          "base_uri": "https://localhost:8080/"
        },
        "id": "DTRRYYEmTfO5",
        "outputId": "23861fa6-66ca-48cf-f2bf-a34ff96cfedd"
      },
      "execution_count": 3,
      "outputs": [
        {
          "output_type": "stream",
          "name": "stdout",
          "text": [
            "Collecting pytorch_lightning\n",
            "  Downloading pytorch_lightning-2.1.2-py3-none-any.whl (776 kB)\n",
            "\u001b[2K     \u001b[90m━━━━━━━━━━━━━━━━━━━━━━━━━━━━━━━━━━━━━━━━\u001b[0m \u001b[32m776.9/776.9 kB\u001b[0m \u001b[31m5.9 MB/s\u001b[0m eta \u001b[36m0:00:00\u001b[0m\n",
            "\u001b[?25hRequirement already satisfied: numpy>=1.17.2 in /usr/local/lib/python3.10/dist-packages (from pytorch_lightning) (1.23.5)\n",
            "Requirement already satisfied: torch>=1.12.0 in /usr/local/lib/python3.10/dist-packages (from pytorch_lightning) (2.1.0+cu121)\n",
            "Requirement already satisfied: tqdm>=4.57.0 in /usr/local/lib/python3.10/dist-packages (from pytorch_lightning) (4.66.1)\n",
            "Requirement already satisfied: PyYAML>=5.4 in /usr/local/lib/python3.10/dist-packages (from pytorch_lightning) (6.0.1)\n",
            "Requirement already satisfied: fsspec[http]>2021.06.0 in /usr/local/lib/python3.10/dist-packages (from pytorch_lightning) (2023.6.0)\n",
            "Collecting torchmetrics>=0.7.0 (from pytorch_lightning)\n",
            "  Downloading torchmetrics-1.2.1-py3-none-any.whl (806 kB)\n",
            "\u001b[2K     \u001b[90m━━━━━━━━━━━━━━━━━━━━━━━━━━━━━━━━━━━━━━━━\u001b[0m \u001b[32m806.1/806.1 kB\u001b[0m \u001b[31m12.4 MB/s\u001b[0m eta \u001b[36m0:00:00\u001b[0m\n",
            "\u001b[?25hRequirement already satisfied: packaging>=20.0 in /usr/local/lib/python3.10/dist-packages (from pytorch_lightning) (23.2)\n",
            "Requirement already satisfied: typing-extensions>=4.0.0 in /usr/local/lib/python3.10/dist-packages (from pytorch_lightning) (4.5.0)\n",
            "Collecting lightning-utilities>=0.8.0 (from pytorch_lightning)\n",
            "  Downloading lightning_utilities-0.10.0-py3-none-any.whl (24 kB)\n",
            "Requirement already satisfied: requests in /usr/local/lib/python3.10/dist-packages (from fsspec[http]>2021.06.0->pytorch_lightning) (2.31.0)\n",
            "Requirement already satisfied: aiohttp!=4.0.0a0,!=4.0.0a1 in /usr/local/lib/python3.10/dist-packages (from fsspec[http]>2021.06.0->pytorch_lightning) (3.9.1)\n",
            "Requirement already satisfied: setuptools in /usr/local/lib/python3.10/dist-packages (from lightning-utilities>=0.8.0->pytorch_lightning) (67.7.2)\n",
            "Requirement already satisfied: filelock in /usr/local/lib/python3.10/dist-packages (from torch>=1.12.0->pytorch_lightning) (3.13.1)\n",
            "Requirement already satisfied: sympy in /usr/local/lib/python3.10/dist-packages (from torch>=1.12.0->pytorch_lightning) (1.12)\n",
            "Requirement already satisfied: networkx in /usr/local/lib/python3.10/dist-packages (from torch>=1.12.0->pytorch_lightning) (3.2.1)\n",
            "Requirement already satisfied: jinja2 in /usr/local/lib/python3.10/dist-packages (from torch>=1.12.0->pytorch_lightning) (3.1.2)\n",
            "Requirement already satisfied: triton==2.1.0 in /usr/local/lib/python3.10/dist-packages (from torch>=1.12.0->pytorch_lightning) (2.1.0)\n",
            "Requirement already satisfied: attrs>=17.3.0 in /usr/local/lib/python3.10/dist-packages (from aiohttp!=4.0.0a0,!=4.0.0a1->fsspec[http]>2021.06.0->pytorch_lightning) (23.1.0)\n",
            "Requirement already satisfied: multidict<7.0,>=4.5 in /usr/local/lib/python3.10/dist-packages (from aiohttp!=4.0.0a0,!=4.0.0a1->fsspec[http]>2021.06.0->pytorch_lightning) (6.0.4)\n",
            "Requirement already satisfied: yarl<2.0,>=1.0 in /usr/local/lib/python3.10/dist-packages (from aiohttp!=4.0.0a0,!=4.0.0a1->fsspec[http]>2021.06.0->pytorch_lightning) (1.9.4)\n",
            "Requirement already satisfied: frozenlist>=1.1.1 in /usr/local/lib/python3.10/dist-packages (from aiohttp!=4.0.0a0,!=4.0.0a1->fsspec[http]>2021.06.0->pytorch_lightning) (1.4.1)\n",
            "Requirement already satisfied: aiosignal>=1.1.2 in /usr/local/lib/python3.10/dist-packages (from aiohttp!=4.0.0a0,!=4.0.0a1->fsspec[http]>2021.06.0->pytorch_lightning) (1.3.1)\n",
            "Requirement already satisfied: async-timeout<5.0,>=4.0 in /usr/local/lib/python3.10/dist-packages (from aiohttp!=4.0.0a0,!=4.0.0a1->fsspec[http]>2021.06.0->pytorch_lightning) (4.0.3)\n",
            "Requirement already satisfied: MarkupSafe>=2.0 in /usr/local/lib/python3.10/dist-packages (from jinja2->torch>=1.12.0->pytorch_lightning) (2.1.3)\n",
            "Requirement already satisfied: charset-normalizer<4,>=2 in /usr/local/lib/python3.10/dist-packages (from requests->fsspec[http]>2021.06.0->pytorch_lightning) (3.3.2)\n",
            "Requirement already satisfied: idna<4,>=2.5 in /usr/local/lib/python3.10/dist-packages (from requests->fsspec[http]>2021.06.0->pytorch_lightning) (3.6)\n",
            "Requirement already satisfied: urllib3<3,>=1.21.1 in /usr/local/lib/python3.10/dist-packages (from requests->fsspec[http]>2021.06.0->pytorch_lightning) (2.0.7)\n",
            "Requirement already satisfied: certifi>=2017.4.17 in /usr/local/lib/python3.10/dist-packages (from requests->fsspec[http]>2021.06.0->pytorch_lightning) (2023.11.17)\n",
            "Requirement already satisfied: mpmath>=0.19 in /usr/local/lib/python3.10/dist-packages (from sympy->torch>=1.12.0->pytorch_lightning) (1.3.0)\n",
            "Installing collected packages: lightning-utilities, torchmetrics, pytorch_lightning\n",
            "Successfully installed lightning-utilities-0.10.0 pytorch_lightning-2.1.2 torchmetrics-1.2.1\n"
          ]
        }
      ]
    },
    {
      "cell_type": "code",
      "execution_count": 4,
      "metadata": {
        "id": "LMNVXiEZ2T_g"
      },
      "outputs": [],
      "source": [
        "import os\n",
        "\n",
        "import cv2\n",
        "import matplotlib.pyplot as plt\n",
        "import numpy as np\n",
        "import pytorch_lightning as pl\n",
        "import torch\n",
        "import torch.nn as nn\n",
        "import torchvision\n",
        "from IPython.display import clear_output"
      ]
    },
    {
      "cell_type": "code",
      "execution_count": 5,
      "metadata": {
        "id": "6m_0LDomTEhj"
      },
      "outputs": [],
      "source": [
        "BATCH_SIZE = 128\n",
        "IMAGE_SIZE = (28, 28)\n",
        "NOISE_DIM = 100\n",
        "LOW_RES_SIZE = IMAGE_SIZE\n",
        "HIGH_RES_SIZE = (112, 112)"
      ]
    },
    {
      "cell_type": "code",
      "execution_count": 6,
      "metadata": {
        "colab": {
          "base_uri": "https://localhost:8080/"
        },
        "id": "y8nVxCxC2T_g",
        "outputId": "4fb6d25f-353f-437e-ffd9-959da0b4d3af"
      },
      "outputs": [
        {
          "output_type": "execute_result",
          "data": {
            "text/plain": [
              "5729"
            ]
          },
          "metadata": {},
          "execution_count": 6
        }
      ],
      "source": [
        "train_kwargs = {}\n",
        "dataset_root = \"./data\"\n",
        "images_dir = \"images\"\n",
        "image_filenames = sorted(os.listdir(os.path.join(dataset_root, images_dir)))\n",
        "len(image_filenames)"
      ]
    },
    {
      "cell_type": "markdown",
      "metadata": {
        "id": "akxy294r2T_h"
      },
      "source": [
        "# I. Image Generation\n",
        "\n",
        "Your first task is to solve a problem of generating photorealistic images out of noise (okay, this might sound optimistic).\n",
        "\n",
        "Namely, you are required to **create fake images of sneakers of resolution 28x28 given a vector of noise sampled from standard normal distribution.**"
      ]
    },
    {
      "cell_type": "markdown",
      "metadata": {
        "id": "hEeSWf-t2T_h"
      },
      "source": [
        "Here is simple PyTorch `Dataset` class for loading and preprocessing"
      ]
    },
    {
      "cell_type": "code",
      "execution_count": 7,
      "metadata": {
        "id": "bh6UclOg2T_h"
      },
      "outputs": [],
      "source": [
        "class SneakersDataset(torch.utils.data.Dataset):\n",
        "    def __init__(\n",
        "        self,\n",
        "        root_dir: str,\n",
        "        images_dir=\"images\",\n",
        "        input_size=None,\n",
        "        target_size=None,\n",
        "    ):\n",
        "        self.images_dir = os.path.join(root_dir, images_dir)\n",
        "        self.input_size = input_size\n",
        "        self.target_size = target_size\n",
        "        files = os.listdir(self.images_dir)\n",
        "        self.all_images = sorted([file for file in files if file.endswith(\".jpg\")])\n",
        "\n",
        "    def __len__(self):\n",
        "        return len(self.all_images)\n",
        "\n",
        "    def __getitem__(self, idx):\n",
        "        image_path = os.path.join(self.images_dir, self.all_images[idx])\n",
        "        image_bgr = cv2.imread(image_path)\n",
        "        image_rgb = cv2.cvtColor(image_bgr, cv2.COLOR_BGR2RGB)\n",
        "        if self.input_size is not None:\n",
        "            input_rgb = cv2.resize(image_rgb, self.input_size)\n",
        "            input_rgb = (input_rgb / 255).astype(np.float32)\n",
        "        if self.target_size is not None:\n",
        "            image_rgb = cv2.resize(image_rgb, self.target_size)\n",
        "        image_rgb = (image_rgb / 255).astype(np.float32)\n",
        "\n",
        "        # tanh values in [-1, 1]\n",
        "        image_rgb = torch.from_numpy(image_rgb * 2 - 1)\n",
        "        if self.input_size is not None:\n",
        "            input_rgb = torch.from_numpy(input_rgb * 2 - 1)\n",
        "            return input_rgb, image_rgb\n",
        "        else:\n",
        "            return image_rgb"
      ]
    },
    {
      "cell_type": "markdown",
      "metadata": {
        "id": "miRyiLHc2T_h"
      },
      "source": [
        "Here we create `LightningDataModule` which will handle dataset loading in our case"
      ]
    },
    {
      "cell_type": "code",
      "execution_count": 8,
      "metadata": {
        "id": "_tePuYxj2T_h"
      },
      "outputs": [],
      "source": [
        "class SneakersGANDataModule(pl.LightningDataModule):\n",
        "    def __init__(self, data_dir: str, batch_size, shuffle=True):\n",
        "        super().__init__()\n",
        "        self.data_dir = data_dir\n",
        "        self.batch_size = batch_size\n",
        "        self.shuffle = shuffle\n",
        "\n",
        "    def setup(self, stage=None):\n",
        "        self.dataset = SneakersDataset(self.data_dir, target_size=IMAGE_SIZE)\n",
        "\n",
        "    def train_dataloader(self):\n",
        "        return torch.utils.data.DataLoader(\n",
        "            self.dataset,\n",
        "            batch_size=self.batch_size,\n",
        "            shuffle=self.shuffle,\n",
        "        )"
      ]
    },
    {
      "cell_type": "code",
      "execution_count": 9,
      "metadata": {
        "id": "B2MfJORX2T_h"
      },
      "outputs": [],
      "source": [
        "def data2img(d: np.ndarray):\n",
        "    return 0.5 * d + 0.5\n",
        "\n",
        "\n",
        "def visualize_images(data, n_rows, n_cols):\n",
        "    n_samples = n_rows * n_cols\n",
        "\n",
        "    if len(data) != n_samples:\n",
        "        sample_indices = np.random.choice(\n",
        "            len(data),\n",
        "            n_samples,\n",
        "            replace=len(data) < n_samples,\n",
        "        )\n",
        "    else:\n",
        "        sample_indices = np.arange(len(data)).astype(int)\n",
        "\n",
        "    plt.figure(figsize=(int(2.5 * n_cols), int(2.5 * n_rows)))\n",
        "    for i, sample_index in enumerate(sample_indices):\n",
        "        plt.subplot(n_rows, n_cols, i + 1)\n",
        "        plt.imshow(data2img(data[sample_index]))\n",
        "        plt.axis(\"off\")\n",
        "    plt.show()"
      ]
    },
    {
      "cell_type": "code",
      "execution_count": 10,
      "metadata": {
        "colab": {
          "base_uri": "https://localhost:8080/",
          "height": 635
        },
        "id": "rFngx2hW2T_h",
        "outputId": "48fc2d71-073e-444e-969a-b3351416dcd0"
      },
      "outputs": [
        {
          "output_type": "display_data",
          "data": {
            "text/plain": [
              "<Figure size 2000x1000 with 32 Axes>"
            ],
            "image/png": "[encoded data removed]"
          },
          "metadata": {}
        }
      ],
      "source": [
        "dm = SneakersGANDataModule(\"data\", batch_size=32)\n",
        "dm.setup()\n",
        "visualize_images(next(iter(dm.train_dataloader())), 4, 8)"
      ]
    },
    {
      "cell_type": "markdown",
      "metadata": {
        "id": "-ixooZ_e2T_h"
      },
      "source": [
        "## Fully connected GAN"
      ]
    },
    {
      "cell_type": "markdown",
      "metadata": {
        "id": "aR9nD0Oy2T_i"
      },
      "source": [
        "### Generator (0.5 pts) [cross-check:0]\n",
        "\n",
        "Our first step is to build a generator. You should use the layers in `torch.nn` (imported in the beginning as `nn`) to construct the model. Since we are using PyTorch and Lightning, you should create `nn.Module`. Use the default initializers for parameters.\n",
        "\n",
        "Architecture:\n",
        " * Fully connected (`Linear` in PyTorch) with output size of 1024\n",
        " * ReLU\n",
        " * Fully connected with output size of 1024\n",
        " * ReLU\n",
        " * Fully connected with output size of 28 x 28 x 3\n",
        " * TanH (to restrict every element of the output to be in the range [-1,1])\n",
        " * Reshape into (28, 28, 3)\n",
        "\n",
        "> You could perform reshaping inside of `forward` method"
      ]
    },
    {
      "cell_type": "code",
      "execution_count": 11,
      "metadata": {
        "id": "Ek4myHCp2T_i"
      },
      "outputs": [],
      "source": [
        "class FCGenerator(nn.Module):\n",
        "    def __init__(self, noise_dim: int, img_shape: tuple):\n",
        "        super().__init__()\n",
        "        self.img_shape = img_shape\n",
        "\n",
        "        self.model = nn.Sequential(\n",
        "            nn.Linear(noise_dim, 1024),\n",
        "            nn.ReLU(inplace=True),\n",
        "            nn.Linear(1024, 1024),\n",
        "            nn.ReLU(inplace=True),\n",
        "            nn.Linear(1024, np.prod(np.array(img_shape))),\n",
        "            nn.Tanh(),\n",
        "        )\n",
        "\n",
        "    def forward(self, z):\n",
        "        img = self.model(z)\n",
        "        # keep batch size\n",
        "        img = img.view(img.size(0), *self.img_shape)\n",
        "        return img"
      ]
    },
    {
      "cell_type": "code",
      "execution_count": 12,
      "metadata": {
        "id": "J4Ln0kZM2T_i"
      },
      "outputs": [],
      "source": [
        "fc_gen = FCGenerator(NOISE_DIM, IMAGE_SIZE + (3,))\n",
        "img_generated = fc_gen(torch.randn(32, NOISE_DIM))\n",
        "assert img_generated.shape[1:] == IMAGE_SIZE + (3,)"
      ]
    },
    {
      "cell_type": "markdown",
      "metadata": {
        "id": "You1A1iK2T_i"
      },
      "source": [
        "### Discriminator (0.5 pts) [cross-check:1]\n",
        "\n",
        "Now you are to build a discriminator. You should use the default initializers for parameters here as well.\n",
        "\n",
        "Architecture:\n",
        " * Flatten\n",
        " * Fully connected with output size of 256\n",
        " * Leaky ReLU(0.01)\n",
        " * Fully connected with output size of 256\n",
        " * Leaky ReLU(0.01)\n",
        " * Fully connected with output size of 1\n",
        " * Sigmoid (to obtain logits as an output)\n",
        "\n",
        "The output of the discriminator should thus have shape `[batch_size, 1]`, and contain real numbers corresponding to the probability that each of the `batch_size` inputs is a real image.\n",
        "\n",
        "> You could perform flattening inside of `forward` method"
      ]
    },
    {
      "cell_type": "code",
      "execution_count": 13,
      "metadata": {
        "id": "DyiCu7cn2T_i"
      },
      "outputs": [],
      "source": [
        "class FCDiscriminator(nn.Module):\n",
        "    def __init__(self, img_shape: tuple):\n",
        "        super().__init__()\n",
        "\n",
        "        self.model = nn.Sequential(\n",
        "            nn.Linear(np.prod(np.array(img_shape)), 256),\n",
        "            nn.LeakyReLU(0.01),\n",
        "            nn.Linear(256, 256),\n",
        "            nn.LeakyReLU(0.01),\n",
        "            nn.Linear(256, 1),\n",
        "            nn.Sigmoid(),\n",
        "        )\n",
        "\n",
        "    def forward(self, img):\n",
        "        img_flat = img.view(img.size(0), -1)\n",
        "        return self.model(img_flat)"
      ]
    },
    {
      "cell_type": "code",
      "execution_count": 14,
      "metadata": {
        "id": "UhCMNZ_k2T_i"
      },
      "outputs": [],
      "source": [
        "fc_dis = FCDiscriminator(IMAGE_SIZE + (3,))\n",
        "prob_dis = fc_dis(img_generated)\n",
        "assert prob_dis.shape[1:] == (1,)"
      ]
    },
    {
      "cell_type": "markdown",
      "metadata": {
        "id": "XjPcLoqF2T_i"
      },
      "source": [
        "## GAN Loss (1.0 pts) [cross-check:2]\n",
        "\n",
        "Compute the generator and discriminator loss. The generator loss is:\n",
        "$$\\ell_G  =  -\\mathbb{E}_{z \\sim p(z)}\\left[\\log D(G(z))\\right]$$\n",
        "and the discriminator loss is:\n",
        "$$ \\ell_D = -\\mathbb{E}_{x \\sim p_\\text{data}}\\left[\\log D(x)\\right] - \\mathbb{E}_{z \\sim p(z)}\\left[\\log \\left(1-D(G(z))\\right)\\right]$$\n",
        "\n",
        "Instead of computing the expectation, you may average over elements of the minibatch, so make sure to combine the loss by *averaging* instead of summing.\n",
        "\n",
        "Note that these are negated from the equations presented earlier as we will be *minimizing* these losses."
      ]
    },
    {
      "cell_type": "markdown",
      "metadata": {
        "id": "gx8afCRqTEho"
      },
      "source": [
        "There is a `LightningModule` with all necessary methods. You should fill all `TODO` comments.\n",
        "\n",
        "> Don't forget to use `detach` method for discriminator training step to prevent backpropagation for generator compuational graph"
      ]
    },
    {
      "cell_type": "code",
      "execution_count": 15,
      "metadata": {
        "id": "30a0jfdl2T_i"
      },
      "outputs": [],
      "source": [
        "class FCGAN(pl.LightningModule):\n",
        "    def __init__(\n",
        "        self,\n",
        "        width,\n",
        "        height,\n",
        "        channels,\n",
        "        noise_dim=100,\n",
        "        lr=0.0002,\n",
        "        b1=0.5,\n",
        "        b2=0.999,\n",
        "    ):\n",
        "        super().__init__()\n",
        "        # make <arg> available as self.hparams.<arg>\n",
        "        self.save_hyperparameters()\n",
        "\n",
        "        # Important: This property activates manual optimization.\n",
        "        self.automatic_optimization = False\n",
        "\n",
        "        img_shape = (width, height, channels)\n",
        "        self.generator = FCGenerator(\n",
        "            noise_dim=self.hparams.noise_dim,\n",
        "            img_shape=img_shape,\n",
        "        )\n",
        "        self.discriminator = FCDiscriminator(\n",
        "            img_shape=img_shape,\n",
        "        )\n",
        "\n",
        "        self.validation_z = torch.randn(8, noise_dim)\n",
        "\n",
        "        self.loss = nn.BCELoss()\n",
        "\n",
        "    def forward(self, z):\n",
        "        return self.generator(z)\n",
        "\n",
        "    def gan_loss(self, y_hat, y):\n",
        "        # TODO: implement GAN loss (hint: binary cross entropy)\n",
        "        return self.loss(y_hat, y)\n",
        "\n",
        "    def training_step(self, imgs, batch_idx):\n",
        "        opt_g, opt_d = self.optimizers()\n",
        "\n",
        "        z = torch.randn(imgs.size(0), self.hparams.noise_dim)\n",
        "        # move to same device as imgs\n",
        "        z = z.type_as(imgs)\n",
        "\n",
        "        # optimize generator\n",
        "        self.generated_imgs = self(z)\n",
        "\n",
        "        # all fake, but we want to be real\n",
        "        valid = torch.ones(imgs.size(0), 1)\n",
        "        valid = valid.type_as(imgs)\n",
        "\n",
        "        g_loss = self.gan_loss(self.discriminator(self(z)), valid)\n",
        "        self.log(\"g_loss\", g_loss, prog_bar=True)\n",
        "\n",
        "        opt_g.zero_grad()\n",
        "        self.manual_backward(g_loss)\n",
        "        opt_g.step()\n",
        "\n",
        "        # optimize discriminator\n",
        "        valid = torch.ones(imgs.size(0), 1)\n",
        "        valid = valid.type_as(imgs)\n",
        "        # TODO: loss for `discriminator(imgs)` and `valid`\n",
        "        real_loss = self.gan_loss(self.discriminator(imgs), valid)\n",
        "\n",
        "        # TODO: zero vector for fake_loss computation\n",
        "        fake = torch.zeros(imgs.size(0), 1)\n",
        "        fake = fake.type_as(imgs)\n",
        "\n",
        "        fake_loss = self.gan_loss(self.discriminator(self(z).detach()), fake)\n",
        "\n",
        "        d_loss = (real_loss + fake_loss) / 2\n",
        "        self.log(\"d_loss\", d_loss, prog_bar=True)\n",
        "\n",
        "        opt_d.zero_grad()\n",
        "        self.manual_backward(d_loss)\n",
        "        opt_d.step()\n",
        "\n",
        "    def configure_optimizers(self):\n",
        "        lr = self.hparams.lr\n",
        "        b1 = self.hparams.b1\n",
        "        b2 = self.hparams.b2\n",
        "\n",
        "        opt_g = torch.optim.Adam(self.generator.parameters(), lr=lr, betas=(b1, b2))\n",
        "        opt_d = torch.optim.Adam(self.discriminator.parameters(), lr=lr, betas=(b1, b2))\n",
        "        return [opt_g, opt_d], []\n",
        "\n",
        "    def on_epoch_end(self):\n",
        "        # send results for validation_z to TensorBoard\n",
        "        z = self.validation_z.type_as(self.generator.model[0].weight)\n",
        "        # channels before pixels\n",
        "        sample_imgs = self(z).permute(0, 3, 1, 2)\n",
        "        grid = torchvision.utils.make_grid(sample_imgs)\n",
        "        self.logger.experiment.add_image(\"generated_images\", grid, self.current_epoch)"
      ]
    },
    {
      "cell_type": "markdown",
      "metadata": {
        "id": "95JM5baZmMKi"
      },
      "source": [
        "#### Training"
      ]
    },
    {
      "cell_type": "code",
      "execution_count": 16,
      "metadata": {
        "id": "DK1-PrBF2T_i"
      },
      "outputs": [],
      "source": [
        "# %load_ext tensorboard\n",
        "# %tensorboard --logdir lightning_logs"
      ]
    },
    {
      "cell_type": "code",
      "execution_count": 17,
      "metadata": {
        "id": "klMMlLKWTEhp"
      },
      "outputs": [],
      "source": [
        "train_kwargs[\"max_epochs\"] = 100"
      ]
    },
    {
      "cell_type": "code",
      "execution_count": 18,
      "metadata": {
        "colab": {
          "base_uri": "https://localhost:8080/",
          "height": 426,
          "referenced_widgets": [
            "d02b041859b542a0a201253ba5c288f0",
            "d2cc3ece3e4d4d1c8bf507b28a67f2ed",
            "1780c638a5474a57bc2297a5ce0d68a2",
            "39767b3ea5424237af27beec4b8854f0",
            "637da67a1ce84bafa350a9f653de2ee0",
            "d2599e5040c349fca4f4765aa981d9f4",
            "2d053bb5df40448fb8eb1a4292e530a3",
            "a4dce158ed5445fea584e99078528e90",
            "8449f0457ef34540bd33360b0ba94b23",
            "6c046a8e6e5f4d42807add11be97e506",
            "3bcd2a1ed7f44ee895444638c10d3657"
          ]
        },
        "id": "AHcwyJFA2T_i",
        "outputId": "2230f03b-c8c3-45f2-a36a-18e5242659d7"
      },
      "outputs": [
        {
          "output_type": "stream",
          "name": "stderr",
          "text": [
            "INFO:pytorch_lightning.utilities.rank_zero:GPU available: True (cuda), used: True\n",
            "INFO:pytorch_lightning.utilities.rank_zero:TPU available: False, using: 0 TPU cores\n",
            "INFO:pytorch_lightning.utilities.rank_zero:IPU available: False, using: 0 IPUs\n",
            "INFO:pytorch_lightning.utilities.rank_zero:HPU available: False, using: 0 HPUs\n",
            "WARNING:pytorch_lightning.loggers.tensorboard:Missing logger folder: /content/lightning_logs\n",
            "INFO:pytorch_lightning.accelerators.cuda:LOCAL_RANK: 0 - CUDA_VISIBLE_DEVICES: [0]\n",
            "INFO:pytorch_lightning.callbacks.model_summary:\n",
            "  | Name          | Type            | Params\n",
            "--------------------------------------------------\n",
            "0 | generator     | FCGenerator     | 3.6 M \n",
            "1 | discriminator | FCDiscriminator | 668 K \n",
            "2 | loss          | BCELoss         | 0     \n",
            "--------------------------------------------------\n",
            "4.2 M     Trainable params\n",
            "0         Non-trainable params\n",
            "4.2 M     Total params\n",
            "16.929    Total estimated model params size (MB)\n",
            "/usr/local/lib/python3.10/dist-packages/pytorch_lightning/trainer/connectors/data_connector.py:441: The 'train_dataloader' does not have many workers which may be a bottleneck. Consider increasing the value of the `num_workers` argument` to `num_workers=1` in the `DataLoader` to improve performance.\n",
            "/usr/local/lib/python3.10/dist-packages/pytorch_lightning/loops/fit_loop.py:293: The number of training batches (45) is smaller than the logging interval Trainer(log_every_n_steps=50). Set a lower value for log_every_n_steps if you want to see logs for the training epoch.\n"
          ]
        },
        {
          "output_type": "display_data",
          "data": {
            "text/plain": [
              "Training: |          | 0/? [00:00<?, ?it/s]"
            ],
            "application/vnd.jupyter.widget-view+json": {
              "version_major": 2,
              "version_minor": 0,
              "model_id": "d02b041859b542a0a201253ba5c288f0"
            }
          },
          "metadata": {}
        },
        {
          "output_type": "stream",
          "name": "stderr",
          "text": [
            "INFO:pytorch_lightning.utilities.rank_zero:`Trainer.fit` stopped: `max_epochs=100` reached.\n"
          ]
        }
      ],
      "source": [
        "dm = SneakersGANDataModule(\"data\", batch_size=BATCH_SIZE)\n",
        "model = FCGAN(*IMAGE_SIZE, 3, NOISE_DIM)\n",
        "trainer = pl.Trainer(**train_kwargs)\n",
        "trainer.fit(model, dm)"
      ]
    },
    {
      "cell_type": "code",
      "execution_count": 19,
      "metadata": {
        "id": "IxsBIlLm2T_i",
        "colab": {
          "base_uri": "https://localhost:8080/",
          "height": 635
        },
        "outputId": "b90685d2-3d3f-4946-dbeb-8e5816f73c73"
      },
      "outputs": [
        {
          "output_type": "display_data",
          "data": {
            "text/plain": [
              "<Figure size 2000x1000 with 32 Axes>"
            ],
            "image/png": "[encoded data removed]"
          },
          "metadata": {}
        }
      ],
      "source": [
        "visualize_images(model(torch.randn(32, NOISE_DIM)).detach(), 4, 8)"
      ]
    },
    {
      "cell_type": "markdown",
      "metadata": {
        "id": "BGva59mXTEhp"
      },
      "source": [
        "> Hint: this architecture isn't great, so don't spend all your time to train it"
      ]
    },
    {
      "cell_type": "markdown",
      "metadata": {
        "id": "9r8wLBjp2T_i"
      },
      "source": [
        "## Deep Convolutional GANs\n",
        "In the first part of the notebook, you have implemented an almost direct copy of the original GAN network from Ian Goodfellow. However, this network architecture allows no real spatial reasoning. It is unable to reason about things like \"sharp edges\" in general because it lacks any convolutional layers. Thus, in this section, you are to implement some of the ideas from [DCGAN](https://arxiv.org/abs/1511.06434), where both discriminator and generator are convolutional networks."
      ]
    },
    {
      "cell_type": "markdown",
      "metadata": {
        "id": "RlmSNMvu2T_i"
      },
      "source": [
        "### Generator (1.0 pts) [cross-check:3]\n",
        "\n",
        "Architecture:\n",
        " * Fully connected with output size of 128x7x7\n",
        " * Reshape into (128, 7, 7)\n",
        " * ReLU\n",
        " * UpSampling2D(2)\n",
        " * Conv2D: 3x3, filters=128, padding=\"same\"\n",
        " * Batch Normalization 2D with momentum(0.8)\n",
        " * ReLU\n",
        " * UpSampling2D(2)\n",
        " * Conv2D: 3x3, filters=64, padding=\"same\"\n",
        " * Batch Normalization 2D with momentum(0.8)\n",
        " * ReLU\n",
        " * Conv2D: 3x3, filters=3, padding=\"same\"\n",
        " * TanH (to restrict every element of the output to be in the range [-1,1])\n",
        "\n",
        "> There is no `padding=\"same\"` in PyTorch, but you could use `padding=k//2` and `padding_mode=\"zeros\"` for kernel size `k`"
      ]
    },
    {
      "cell_type": "code",
      "execution_count": 16,
      "metadata": {
        "id": "px1zHOt02T_i"
      },
      "outputs": [],
      "source": [
        "class DCGenerator(nn.Module):\n",
        "    def __init__(self, noise_dim: int, img_shape: tuple):\n",
        "        super().__init__()\n",
        "        self.img_shape = img_shape\n",
        "\n",
        "        self.model = nn.Sequential(\n",
        "            nn.Linear(noise_dim, 128 * 7 * 7),\n",
        "            nn.Unflatten(1, (128, 7, 7)),\n",
        "            nn.ReLU(),\n",
        "            nn.Upsample(scale_factor=2, mode='bilinear'),\n",
        "            nn.Conv2d(128, 128, 3, padding=3//2, padding_mode='zeros'),\n",
        "            nn.BatchNorm2d(128, momentum=0.8),\n",
        "            nn.ReLU(),\n",
        "            nn.Upsample(scale_factor=2, mode='bilinear'),\n",
        "            nn.Conv2d(128, 64, 3, padding=3//2, padding_mode='zeros'),\n",
        "            nn.BatchNorm2d(64, momentum=0.8),\n",
        "            nn.ReLU(),\n",
        "            nn.Conv2d(64, 3, 3, padding=3//2, padding_mode='zeros'),\n",
        "            nn.Tanh()\n",
        "        )\n",
        "\n",
        "    def forward(self, z):\n",
        "        img = self.model(z)\n",
        "        # make channel axis last\n",
        "        img = img.permute(0, 2, 3, 1)\n",
        "        return img"
      ]
    },
    {
      "cell_type": "code",
      "execution_count": 17,
      "metadata": {
        "id": "3VlTQU7d2T_i"
      },
      "outputs": [],
      "source": [
        "dc_gen = DCGenerator(NOISE_DIM, IMAGE_SIZE + (3,))\n",
        "fake_imgs = dc_gen(torch.randn(10, NOISE_DIM))\n",
        "assert fake_imgs.shape[1:] == IMAGE_SIZE + (3,)"
      ]
    },
    {
      "cell_type": "markdown",
      "metadata": {
        "id": "tyqq0l5l2T_i"
      },
      "source": [
        "### Discriminator (1.0 pts) [cross-check:4]\n",
        "\n",
        "Architecture:\n",
        " * Conv2D: 3x3, filters=32, strides=2, padding=\"same\"\n",
        " * Leaky ReLU(0.2)\n",
        " * Dropout(0.25)\n",
        " * Conv2D: 3x3, filters=64, strides=2, padding=\"same\"\n",
        " * Zero Padding 2D: ((0, 1), (0, 1))\n",
        " * Batch Normalization 2D with momentum(0.8)\n",
        " * Leaky ReLU(0.2)\n",
        " * Dropout(0.25)\n",
        " * Conv2D: 3x3, filters=128, strides=2, padding=\"same\"\n",
        " * Batch Normalization 2D with momentum(0.8)\n",
        " * Leaky ReLU(0.2)\n",
        " * Dropout(0.25)\n",
        " * Conv2D: 3x3, filters=256, strides=2, padding=\"same\"\n",
        " * Batch Normalization 2D with momentum(0.8)\n",
        " * Leaky ReLU(0.2)\n",
        " * Dropout(0.25)\n",
        " * Flatten\n",
        " * Fully connected layer with output size 1\n",
        " * Sigmoid"
      ]
    },
    {
      "cell_type": "code",
      "execution_count": 18,
      "metadata": {
        "id": "TeqlNeKM2T_i"
      },
      "outputs": [],
      "source": [
        "class DCDiscriminator(nn.Module):\n",
        "    def __init__(self, img_shape: tuple):\n",
        "        super().__init__()\n",
        "\n",
        "        self.model = nn.Sequential(\n",
        "            nn.Conv2d(3, 32, 3, stride=2, padding=4),\n",
        "            nn.LeakyReLU(0.2),\n",
        "            nn.Dropout(0.25),\n",
        "            nn.Conv2d(32, 64, 3, stride=2, padding=(2,3)),\n",
        "            nn.BatchNorm2d(64, momentum=0.8),\n",
        "            nn.LeakyReLU(0.2),\n",
        "            nn.Dropout(0.25),\n",
        "            nn.Conv2d(64, 128, 3, stride=2, padding=4),\n",
        "            nn.BatchNorm2d(128, momentum=0.8),\n",
        "            nn.LeakyReLU(0.2),\n",
        "            nn.Dropout(0.25),\n",
        "            nn.Conv2d(128, 256, 3, stride=2, padding=4),\n",
        "            nn.BatchNorm2d(256, momentum=0.8),\n",
        "            nn.LeakyReLU(0.2),\n",
        "            nn.Dropout(0.25),\n",
        "            nn.Flatten(),\n",
        "            nn.Linear(256 * 28 * 2, 1),\n",
        "            nn.Sigmoid()\n",
        "        )\n",
        "\n",
        "    def forward(self, img):\n",
        "        # channels first\n",
        "        img_chan = img.permute(0, 3, 1, 2)\n",
        "        return self.model(img_chan)"
      ]
    },
    {
      "cell_type": "code",
      "execution_count": 19,
      "metadata": {
        "id": "iv8LAYu52T_i"
      },
      "outputs": [],
      "source": [
        "dc_dis = DCDiscriminator(img_shape=IMAGE_SIZE + (3,))\n",
        "fake_proba = dc_dis(fake_imgs)\n",
        "assert fake_proba.shape[1:] == (1,)"
      ]
    },
    {
      "cell_type": "markdown",
      "metadata": {
        "id": "EE-qWG0Y2T_i"
      },
      "source": [
        "## Least Squares GAN loss (1.0 pts) [cross-check:5]\n",
        "We'll now look at [Least Squares GAN loss](https://arxiv.org/abs/1611.04076), a newer, more stable alternative to the original GAN loss function. For this part, all you have to do is change the loss function and retrain the model. You'll implement equation (9) in the paper, with the generator loss:\n",
        "$$\\ell_G  =  \\frac{1}{2}\\mathbb{E}_{z \\sim p(z)}\\left[\\left(D(G(z))-1\\right)^2\\right]$$\n",
        "and the discriminator loss:\n",
        "$$ \\ell_D = \\frac{1}{2}\\mathbb{E}_{x \\sim p_\\text{data}}\\left[\\left(D(x)-1\\right)^2\\right] + \\frac{1}{2}\\mathbb{E}_{z \\sim p(z)}\\left[ \\left(D(G(z))\\right)^2\\right]$$"
      ]
    },
    {
      "cell_type": "code",
      "execution_count": 20,
      "metadata": {
        "id": "3pjHNyLm2T_i"
      },
      "outputs": [],
      "source": [
        "class DCGAN(pl.LightningModule):\n",
        "    def __init__(\n",
        "        self,\n",
        "        width,\n",
        "        height,\n",
        "        channels,\n",
        "        noise_dim=100,\n",
        "        lr=0.0002,\n",
        "        b1=0.5,\n",
        "        b2=0.999,\n",
        "    ):\n",
        "        super().__init__()\n",
        "        # make <arg> available as self.hparams.<arg>\n",
        "        self.save_hyperparameters()\n",
        "\n",
        "        # Important: This property activates manual optimization.\n",
        "        self.automatic_optimization = False\n",
        "\n",
        "        img_shape = (width, height, channels)\n",
        "        self.generator = DCGenerator(\n",
        "            noise_dim=self.hparams.noise_dim,\n",
        "            img_shape=img_shape,\n",
        "        )\n",
        "        self.discriminator = DCDiscriminator(\n",
        "            img_shape=img_shape,\n",
        "        )\n",
        "\n",
        "        self.validation_z = torch.randn(8, noise_dim)\n",
        "\n",
        "    def forward(self, z):\n",
        "        return self.generator(z)\n",
        "\n",
        "    def ls_loss(self, y_hat, y):\n",
        "        # TODO: implement least squares GAN loss\n",
        "        return ((y_hat - y) ** 2).sum()\n",
        "\n",
        "    def training_step(self, imgs, batch_idx):\n",
        "        opt_g, opt_d = self.optimizers()\n",
        "\n",
        "        z = torch.randn(imgs.size(0), self.hparams.noise_dim)\n",
        "        # move to same device as imgs\n",
        "        z = z.type_as(imgs)\n",
        "\n",
        "        # optimize generator\n",
        "        # TODO: compute loss as before (FCGAN)\n",
        "        self.generated_imgs = self(z)\n",
        "\n",
        "        # all fake, but we want to be real\n",
        "        valid = torch.ones(imgs.size(0), 1)\n",
        "        valid = valid.type_as(imgs)\n",
        "\n",
        "        g_loss = self.ls_loss(self.discriminator(self(z)), valid)\n",
        "\n",
        "        self.log(\"g_loss\", g_loss, prog_bar=True)\n",
        "\n",
        "        opt_g.zero_grad()\n",
        "        self.manual_backward(g_loss)\n",
        "        opt_g.step()\n",
        "\n",
        "        # optimize discriminator\n",
        "        # TODO: compute loss as before (FCGAN)\n",
        "        valid = torch.ones(imgs.size(0), 1)\n",
        "        valid = valid.type_as(imgs)\n",
        "\n",
        "        real_loss = self.ls_loss(self.discriminator(imgs), valid)\n",
        "\n",
        "        fake = torch.zeros(imgs.size(0), 1)\n",
        "        fake = fake.type_as(imgs)\n",
        "\n",
        "        fake_loss = self.ls_loss(self.discriminator(self(z).detach()), fake)\n",
        "\n",
        "        d_loss = (real_loss + fake_loss) / 2\n",
        "        self.log(\"d_loss\", d_loss, prog_bar=True)\n",
        "\n",
        "        opt_d.zero_grad()\n",
        "        self.manual_backward(d_loss)\n",
        "        opt_d.step()\n",
        "\n",
        "    def configure_optimizers(self):\n",
        "        lr = self.hparams.lr\n",
        "        b1 = self.hparams.b1\n",
        "        b2 = self.hparams.b2\n",
        "\n",
        "        opt_g = torch.optim.Adam(self.generator.parameters(), lr=lr, betas=(b1, b2))\n",
        "        opt_d = torch.optim.Adam(self.discriminator.parameters(), lr=lr, betas=(b1, b2))\n",
        "        return [opt_g, opt_d], []\n",
        "\n",
        "    def on_epoch_end(self):\n",
        "        z = self.validation_z.type_as(self.generator.model[0].weight)\n",
        "        # channels before pixels\n",
        "        sample_imgs = self(z).permute(0, 3, 1, 2)\n",
        "        grid = torchvision.utils.make_grid(sample_imgs)\n",
        "        self.logger.experiment.add_image(\"generated_images\", grid, self.current_epoch)"
      ]
    },
    {
      "cell_type": "markdown",
      "metadata": {
        "id": "SmQLyGSv2T_i"
      },
      "source": [
        "### Training\n",
        "Train generator and discriminator in a loop and draw results once every N iterations."
      ]
    },
    {
      "cell_type": "code",
      "execution_count": null,
      "metadata": {
        "id": "g9dkyEQwTEh4"
      },
      "outputs": [],
      "source": [
        "# %load_ext tensorboard\n",
        "# %tensorboard --logdir lightning_logs"
      ]
    },
    {
      "cell_type": "code",
      "execution_count": 45,
      "metadata": {
        "id": "dxXy9INbTEh4"
      },
      "outputs": [],
      "source": [
        "train_kwargs[\"max_epochs\"] = 100"
      ]
    },
    {
      "cell_type": "code",
      "execution_count": 48,
      "metadata": {
        "id": "M4R3uSOJ2T_i",
        "colab": {
          "base_uri": "https://localhost:8080/",
          "height": 390,
          "referenced_widgets": [
            "3e87314b6b0649178e0d86c0f937d06f",
            "5609056b18ea48619bb458260dc78cd3",
            "247b1df32956424e92128095794e362f",
            "c5452438a30546f5a2751bf87873d442",
            "ad5a5d1e422a485d8a47328b761b4c4b",
            "8b588abe39bf4feb8336d070e0073f7d",
            "0b825b07fcbd4408b8c9f5c4a54be88a",
            "7ad418d9193348849ee9115f90be2d30",
            "a8c8c3bada0641208e4f0e4ae8f1079b",
            "21744ce912364bb0b0cfeda164aa213b",
            "077baae41d814d38bbb359b1b74ab0cf"
          ]
        },
        "outputId": "dc570bfd-0a02-47ce-9bdb-add00864012a"
      },
      "outputs": [
        {
          "output_type": "stream",
          "name": "stderr",
          "text": [
            "INFO:pytorch_lightning.utilities.rank_zero:GPU available: True (cuda), used: True\n",
            "INFO:pytorch_lightning.utilities.rank_zero:TPU available: False, using: 0 TPU cores\n",
            "INFO:pytorch_lightning.utilities.rank_zero:IPU available: False, using: 0 IPUs\n",
            "INFO:pytorch_lightning.utilities.rank_zero:HPU available: False, using: 0 HPUs\n",
            "INFO:pytorch_lightning.accelerators.cuda:LOCAL_RANK: 0 - CUDA_VISIBLE_DEVICES: [0]\n",
            "INFO:pytorch_lightning.callbacks.model_summary:\n",
            "  | Name          | Type            | Params\n",
            "--------------------------------------------------\n",
            "0 | generator     | DCGenerator     | 856 K \n",
            "1 | discriminator | DCDiscriminator | 403 K \n",
            "--------------------------------------------------\n",
            "1.3 M     Trainable params\n",
            "0         Non-trainable params\n",
            "1.3 M     Total params\n",
            "5.042     Total estimated model params size (MB)\n",
            "/usr/local/lib/python3.10/dist-packages/pytorch_lightning/trainer/connectors/data_connector.py:441: The 'train_dataloader' does not have many workers which may be a bottleneck. Consider increasing the value of the `num_workers` argument` to `num_workers=1` in the `DataLoader` to improve performance.\n",
            "/usr/local/lib/python3.10/dist-packages/pytorch_lightning/loops/fit_loop.py:293: The number of training batches (45) is smaller than the logging interval Trainer(log_every_n_steps=50). Set a lower value for log_every_n_steps if you want to see logs for the training epoch.\n"
          ]
        },
        {
          "output_type": "display_data",
          "data": {
            "text/plain": [
              "Training: |          | 0/? [00:00<?, ?it/s]"
            ],
            "application/vnd.jupyter.widget-view+json": {
              "version_major": 2,
              "version_minor": 0,
              "model_id": "3e87314b6b0649178e0d86c0f937d06f"
            }
          },
          "metadata": {}
        },
        {
          "output_type": "stream",
          "name": "stderr",
          "text": [
            "INFO:pytorch_lightning.utilities.rank_zero:`Trainer.fit` stopped: `max_epochs=100` reached.\n"
          ]
        }
      ],
      "source": [
        "dm = SneakersGANDataModule(\"data\", batch_size=BATCH_SIZE)\n",
        "model = DCGAN(*IMAGE_SIZE, 3, NOISE_DIM)\n",
        "trainer = pl.Trainer(**train_kwargs)\n",
        "trainer.fit(model, dm)"
      ]
    },
    {
      "cell_type": "markdown",
      "metadata": {
        "id": "iEAcxvr7nDqE"
      },
      "source": [
        "Prepare data for **III. GAN metrics. PRD score**:"
      ]
    },
    {
      "cell_type": "code",
      "execution_count": 39,
      "metadata": {
        "id": "rirxBd_wQikH"
      },
      "outputs": [],
      "source": [
        "import tqdm\n",
        "\n",
        "\n",
        "def predict(\n",
        "    model: pl.LightningModule,\n",
        "    data: torch.Tensor,\n",
        "    batch_size: int,\n",
        "    verbose: bool = True,\n",
        "):\n",
        "    output = []\n",
        "    slicer = range(0, len(data), batch_size)\n",
        "    if verbose:\n",
        "        slicer = tqdm.tqdm(slicer)\n",
        "\n",
        "    model.eval()\n",
        "    use_gpu = torch.cuda.is_available()\n",
        "    if use_gpu:\n",
        "        model.cuda()\n",
        "    with torch.no_grad():\n",
        "        for i in slicer:\n",
        "            x = data[i : i + batch_size]\n",
        "            if use_gpu:\n",
        "                x = x.cuda()\n",
        "            y = model(x)\n",
        "            if use_gpu:\n",
        "                y = y.cpu()\n",
        "            output.append(y)\n",
        "    if use_gpu:\n",
        "        model.cpu()\n",
        "\n",
        "    output = torch.cat(output, dim=0)\n",
        "    return output"
      ]
    },
    {
      "cell_type": "code",
      "execution_count": 40,
      "metadata": {
        "id": "vAWj43ixmQnk",
        "colab": {
          "base_uri": "https://localhost:8080/",
          "height": 453
        },
        "outputId": "9e375c8d-4e80-4db9-c528-1fbcd6031418"
      },
      "outputs": [
        {
          "output_type": "stream",
          "name": "stderr",
          "text": [
            "\n",
            "  0%|          | 0/45 [00:00<?, ?it/s]\n"
          ]
        },
        {
          "output_type": "error",
          "ename": "RuntimeError",
          "evalue": "ignored",
          "traceback": [
            "\u001b[0;31m---------------------------------------------------------------------------\u001b[0m",
            "\u001b[0;31mRuntimeError\u001b[0m                              Traceback (most recent call last)",
            "\u001b[0;32m<ipython-input-40-205da170362f>\u001b[0m in \u001b[0;36m<cell line: 3>\u001b[0;34m()\u001b[0m\n\u001b[1;32m      1\u001b[0m \u001b[0mdataset\u001b[0m \u001b[0;34m=\u001b[0m \u001b[0mSneakersDataset\u001b[0m\u001b[0;34m(\u001b[0m\u001b[0;34m\"data\"\u001b[0m\u001b[0;34m,\u001b[0m \u001b[0mtarget_size\u001b[0m\u001b[0;34m=\u001b[0m\u001b[0mIMAGE_SIZE\u001b[0m\u001b[0;34m)\u001b[0m\u001b[0;34m\u001b[0m\u001b[0;34m\u001b[0m\u001b[0m\n\u001b[1;32m      2\u001b[0m \u001b[0mlr_data\u001b[0m \u001b[0;34m=\u001b[0m \u001b[0mtorch\u001b[0m\u001b[0;34m.\u001b[0m\u001b[0mstack\u001b[0m\u001b[0;34m(\u001b[0m\u001b[0;34m[\u001b[0m\u001b[0mdataset\u001b[0m\u001b[0;34m[\u001b[0m\u001b[0mi\u001b[0m\u001b[0;34m]\u001b[0m \u001b[0;32mfor\u001b[0m \u001b[0mi\u001b[0m \u001b[0;32min\u001b[0m \u001b[0mrange\u001b[0m\u001b[0;34m(\u001b[0m\u001b[0mlen\u001b[0m\u001b[0;34m(\u001b[0m\u001b[0mdataset\u001b[0m\u001b[0;34m)\u001b[0m\u001b[0;34m)\u001b[0m\u001b[0;34m]\u001b[0m\u001b[0;34m,\u001b[0m \u001b[0mdim\u001b[0m\u001b[0;34m=\u001b[0m\u001b[0;36m0\u001b[0m\u001b[0;34m)\u001b[0m\u001b[0;34m\u001b[0m\u001b[0;34m\u001b[0m\u001b[0m\n\u001b[0;32m----> 3\u001b[0;31m \u001b[0mdc_fake_data\u001b[0m \u001b[0;34m=\u001b[0m \u001b[0mpredict\u001b[0m\u001b[0;34m(\u001b[0m\u001b[0mmodel\u001b[0m\u001b[0;34m,\u001b[0m \u001b[0mtorch\u001b[0m\u001b[0;34m.\u001b[0m\u001b[0mrandn\u001b[0m\u001b[0;34m(\u001b[0m\u001b[0mlr_data\u001b[0m\u001b[0;34m.\u001b[0m\u001b[0msize\u001b[0m\u001b[0;34m(\u001b[0m\u001b[0;36m0\u001b[0m\u001b[0;34m)\u001b[0m\u001b[0;34m,\u001b[0m \u001b[0mNOISE_DIM\u001b[0m\u001b[0;34m)\u001b[0m\u001b[0;34m,\u001b[0m \u001b[0mBATCH_SIZE\u001b[0m\u001b[0;34m)\u001b[0m\u001b[0;34m\u001b[0m\u001b[0;34m\u001b[0m\u001b[0m\n\u001b[0m\u001b[1;32m      4\u001b[0m \u001b[0mprint\u001b[0m\u001b[0;34m(\u001b[0m\u001b[0;34m\"LR data:\"\u001b[0m\u001b[0;34m,\u001b[0m \u001b[0mlr_data\u001b[0m\u001b[0;34m.\u001b[0m\u001b[0msize\u001b[0m\u001b[0;34m(\u001b[0m\u001b[0;34m)\u001b[0m\u001b[0;34m)\u001b[0m\u001b[0;34m\u001b[0m\u001b[0;34m\u001b[0m\u001b[0m\n\u001b[1;32m      5\u001b[0m \u001b[0mprint\u001b[0m\u001b[0;34m(\u001b[0m\u001b[0;34m\"Fake LR data:\"\u001b[0m\u001b[0;34m,\u001b[0m \u001b[0mdc_fake_data\u001b[0m\u001b[0;34m.\u001b[0m\u001b[0msize\u001b[0m\u001b[0;34m(\u001b[0m\u001b[0;34m)\u001b[0m\u001b[0;34m)\u001b[0m\u001b[0;34m\u001b[0m\u001b[0;34m\u001b[0m\u001b[0m\n",
            "\u001b[0;32m<ipython-input-39-734fb04c5759>\u001b[0m in \u001b[0;36mpredict\u001b[0;34m(model, data, batch_size, verbose)\u001b[0m\n\u001b[1;32m     22\u001b[0m             \u001b[0;32mif\u001b[0m \u001b[0muse_gpu\u001b[0m\u001b[0;34m:\u001b[0m\u001b[0;34m\u001b[0m\u001b[0;34m\u001b[0m\u001b[0m\n\u001b[1;32m     23\u001b[0m                 \u001b[0mx\u001b[0m \u001b[0;34m=\u001b[0m \u001b[0mx\u001b[0m\u001b[0;34m.\u001b[0m\u001b[0mcuda\u001b[0m\u001b[0;34m(\u001b[0m\u001b[0;34m)\u001b[0m\u001b[0;34m\u001b[0m\u001b[0;34m\u001b[0m\u001b[0m\n\u001b[0;32m---> 24\u001b[0;31m             \u001b[0my\u001b[0m \u001b[0;34m=\u001b[0m \u001b[0mmodel\u001b[0m\u001b[0;34m(\u001b[0m\u001b[0mx\u001b[0m\u001b[0;34m)\u001b[0m\u001b[0;34m\u001b[0m\u001b[0;34m\u001b[0m\u001b[0m\n\u001b[0m\u001b[1;32m     25\u001b[0m             \u001b[0;32mif\u001b[0m \u001b[0muse_gpu\u001b[0m\u001b[0;34m:\u001b[0m\u001b[0;34m\u001b[0m\u001b[0;34m\u001b[0m\u001b[0m\n\u001b[1;32m     26\u001b[0m                 \u001b[0my\u001b[0m \u001b[0;34m=\u001b[0m \u001b[0my\u001b[0m\u001b[0;34m.\u001b[0m\u001b[0mcpu\u001b[0m\u001b[0;34m(\u001b[0m\u001b[0;34m)\u001b[0m\u001b[0;34m\u001b[0m\u001b[0;34m\u001b[0m\u001b[0m\n",
            "\u001b[0;32m/usr/local/lib/python3.10/dist-packages/torch/nn/modules/module.py\u001b[0m in \u001b[0;36m_wrapped_call_impl\u001b[0;34m(self, *args, **kwargs)\u001b[0m\n\u001b[1;32m   1516\u001b[0m             \u001b[0;32mreturn\u001b[0m \u001b[0mself\u001b[0m\u001b[0;34m.\u001b[0m\u001b[0m_compiled_call_impl\u001b[0m\u001b[0;34m(\u001b[0m\u001b[0;34m*\u001b[0m\u001b[0margs\u001b[0m\u001b[0;34m,\u001b[0m \u001b[0;34m**\u001b[0m\u001b[0mkwargs\u001b[0m\u001b[0;34m)\u001b[0m  \u001b[0;31m# type: ignore[misc]\u001b[0m\u001b[0;34m\u001b[0m\u001b[0;34m\u001b[0m\u001b[0m\n\u001b[1;32m   1517\u001b[0m         \u001b[0;32melse\u001b[0m\u001b[0;34m:\u001b[0m\u001b[0;34m\u001b[0m\u001b[0;34m\u001b[0m\u001b[0m\n\u001b[0;32m-> 1518\u001b[0;31m             \u001b[0;32mreturn\u001b[0m \u001b[0mself\u001b[0m\u001b[0;34m.\u001b[0m\u001b[0m_call_impl\u001b[0m\u001b[0;34m(\u001b[0m\u001b[0;34m*\u001b[0m\u001b[0margs\u001b[0m\u001b[0;34m,\u001b[0m \u001b[0;34m**\u001b[0m\u001b[0mkwargs\u001b[0m\u001b[0;34m)\u001b[0m\u001b[0;34m\u001b[0m\u001b[0;34m\u001b[0m\u001b[0m\n\u001b[0m\u001b[1;32m   1519\u001b[0m \u001b[0;34m\u001b[0m\u001b[0m\n\u001b[1;32m   1520\u001b[0m     \u001b[0;32mdef\u001b[0m \u001b[0m_call_impl\u001b[0m\u001b[0;34m(\u001b[0m\u001b[0mself\u001b[0m\u001b[0;34m,\u001b[0m \u001b[0;34m*\u001b[0m\u001b[0margs\u001b[0m\u001b[0;34m,\u001b[0m \u001b[0;34m**\u001b[0m\u001b[0mkwargs\u001b[0m\u001b[0;34m)\u001b[0m\u001b[0;34m:\u001b[0m\u001b[0;34m\u001b[0m\u001b[0;34m\u001b[0m\u001b[0m\n",
            "\u001b[0;32m/usr/local/lib/python3.10/dist-packages/torch/nn/modules/module.py\u001b[0m in \u001b[0;36m_call_impl\u001b[0;34m(self, *args, **kwargs)\u001b[0m\n\u001b[1;32m   1525\u001b[0m                 \u001b[0;32mor\u001b[0m \u001b[0m_global_backward_pre_hooks\u001b[0m \u001b[0;32mor\u001b[0m \u001b[0m_global_backward_hooks\u001b[0m\u001b[0;34m\u001b[0m\u001b[0;34m\u001b[0m\u001b[0m\n\u001b[1;32m   1526\u001b[0m                 or _global_forward_hooks or _global_forward_pre_hooks):\n\u001b[0;32m-> 1527\u001b[0;31m             \u001b[0;32mreturn\u001b[0m \u001b[0mforward_call\u001b[0m\u001b[0;34m(\u001b[0m\u001b[0;34m*\u001b[0m\u001b[0margs\u001b[0m\u001b[0;34m,\u001b[0m \u001b[0;34m**\u001b[0m\u001b[0mkwargs\u001b[0m\u001b[0;34m)\u001b[0m\u001b[0;34m\u001b[0m\u001b[0;34m\u001b[0m\u001b[0m\n\u001b[0m\u001b[1;32m   1528\u001b[0m \u001b[0;34m\u001b[0m\u001b[0m\n\u001b[1;32m   1529\u001b[0m         \u001b[0;32mtry\u001b[0m\u001b[0;34m:\u001b[0m\u001b[0;34m\u001b[0m\u001b[0;34m\u001b[0m\u001b[0m\n",
            "\u001b[0;32m<ipython-input-30-a3f80318f214>\u001b[0m in \u001b[0;36mforward\u001b[0;34m(self, z)\u001b[0m\n\u001b[1;32m     13\u001b[0m \u001b[0;34m\u001b[0m\u001b[0m\n\u001b[1;32m     14\u001b[0m     \u001b[0;32mdef\u001b[0m \u001b[0mforward\u001b[0m\u001b[0;34m(\u001b[0m\u001b[0mself\u001b[0m\u001b[0;34m,\u001b[0m \u001b[0mz\u001b[0m\u001b[0;34m)\u001b[0m\u001b[0;34m:\u001b[0m\u001b[0;34m\u001b[0m\u001b[0;34m\u001b[0m\u001b[0m\n\u001b[0;32m---> 15\u001b[0;31m         \u001b[0;32mreturn\u001b[0m \u001b[0mself\u001b[0m\u001b[0;34m.\u001b[0m\u001b[0mgenerator\u001b[0m\u001b[0;34m(\u001b[0m\u001b[0mz\u001b[0m\u001b[0;34m)\u001b[0m\u001b[0;34m\u001b[0m\u001b[0;34m\u001b[0m\u001b[0m\n\u001b[0m\u001b[1;32m     16\u001b[0m \u001b[0;34m\u001b[0m\u001b[0m\n\u001b[1;32m     17\u001b[0m     \u001b[0;32mdef\u001b[0m \u001b[0mgan_loss\u001b[0m\u001b[0;34m(\u001b[0m\u001b[0mself\u001b[0m\u001b[0;34m,\u001b[0m \u001b[0my_hat\u001b[0m\u001b[0;34m,\u001b[0m \u001b[0my\u001b[0m\u001b[0;34m)\u001b[0m\u001b[0;34m:\u001b[0m\u001b[0;34m\u001b[0m\u001b[0;34m\u001b[0m\u001b[0m\n",
            "\u001b[0;32m/usr/local/lib/python3.10/dist-packages/torch/nn/modules/module.py\u001b[0m in \u001b[0;36m_wrapped_call_impl\u001b[0;34m(self, *args, **kwargs)\u001b[0m\n\u001b[1;32m   1516\u001b[0m             \u001b[0;32mreturn\u001b[0m \u001b[0mself\u001b[0m\u001b[0;34m.\u001b[0m\u001b[0m_compiled_call_impl\u001b[0m\u001b[0;34m(\u001b[0m\u001b[0;34m*\u001b[0m\u001b[0margs\u001b[0m\u001b[0;34m,\u001b[0m \u001b[0;34m**\u001b[0m\u001b[0mkwargs\u001b[0m\u001b[0;34m)\u001b[0m  \u001b[0;31m# type: ignore[misc]\u001b[0m\u001b[0;34m\u001b[0m\u001b[0;34m\u001b[0m\u001b[0m\n\u001b[1;32m   1517\u001b[0m         \u001b[0;32melse\u001b[0m\u001b[0;34m:\u001b[0m\u001b[0;34m\u001b[0m\u001b[0;34m\u001b[0m\u001b[0m\n\u001b[0;32m-> 1518\u001b[0;31m             \u001b[0;32mreturn\u001b[0m \u001b[0mself\u001b[0m\u001b[0;34m.\u001b[0m\u001b[0m_call_impl\u001b[0m\u001b[0;34m(\u001b[0m\u001b[0;34m*\u001b[0m\u001b[0margs\u001b[0m\u001b[0;34m,\u001b[0m \u001b[0;34m**\u001b[0m\u001b[0mkwargs\u001b[0m\u001b[0;34m)\u001b[0m\u001b[0;34m\u001b[0m\u001b[0;34m\u001b[0m\u001b[0m\n\u001b[0m\u001b[1;32m   1519\u001b[0m \u001b[0;34m\u001b[0m\u001b[0m\n\u001b[1;32m   1520\u001b[0m     \u001b[0;32mdef\u001b[0m \u001b[0m_call_impl\u001b[0m\u001b[0;34m(\u001b[0m\u001b[0mself\u001b[0m\u001b[0;34m,\u001b[0m \u001b[0;34m*\u001b[0m\u001b[0margs\u001b[0m\u001b[0;34m,\u001b[0m \u001b[0;34m**\u001b[0m\u001b[0mkwargs\u001b[0m\u001b[0;34m)\u001b[0m\u001b[0;34m:\u001b[0m\u001b[0;34m\u001b[0m\u001b[0;34m\u001b[0m\u001b[0m\n",
            "\u001b[0;32m/usr/local/lib/python3.10/dist-packages/torch/nn/modules/module.py\u001b[0m in \u001b[0;36m_call_impl\u001b[0;34m(self, *args, **kwargs)\u001b[0m\n\u001b[1;32m   1525\u001b[0m                 \u001b[0;32mor\u001b[0m \u001b[0m_global_backward_pre_hooks\u001b[0m \u001b[0;32mor\u001b[0m \u001b[0m_global_backward_hooks\u001b[0m\u001b[0;34m\u001b[0m\u001b[0;34m\u001b[0m\u001b[0m\n\u001b[1;32m   1526\u001b[0m                 or _global_forward_hooks or _global_forward_pre_hooks):\n\u001b[0;32m-> 1527\u001b[0;31m             \u001b[0;32mreturn\u001b[0m \u001b[0mforward_call\u001b[0m\u001b[0;34m(\u001b[0m\u001b[0;34m*\u001b[0m\u001b[0margs\u001b[0m\u001b[0;34m,\u001b[0m \u001b[0;34m**\u001b[0m\u001b[0mkwargs\u001b[0m\u001b[0;34m)\u001b[0m\u001b[0;34m\u001b[0m\u001b[0;34m\u001b[0m\u001b[0m\n\u001b[0m\u001b[1;32m   1528\u001b[0m \u001b[0;34m\u001b[0m\u001b[0m\n\u001b[1;32m   1529\u001b[0m         \u001b[0;32mtry\u001b[0m\u001b[0;34m:\u001b[0m\u001b[0;34m\u001b[0m\u001b[0;34m\u001b[0m\u001b[0m\n",
            "\u001b[0;32m<ipython-input-25-8b107692b2f7>\u001b[0m in \u001b[0;36mforward\u001b[0;34m(self, z)\u001b[0m\n\u001b[1;32m     20\u001b[0m \u001b[0;34m\u001b[0m\u001b[0m\n\u001b[1;32m     21\u001b[0m     \u001b[0;32mdef\u001b[0m \u001b[0mforward\u001b[0m\u001b[0;34m(\u001b[0m\u001b[0mself\u001b[0m\u001b[0;34m,\u001b[0m \u001b[0mz\u001b[0m\u001b[0;34m)\u001b[0m\u001b[0;34m:\u001b[0m\u001b[0;34m\u001b[0m\u001b[0;34m\u001b[0m\u001b[0m\n\u001b[0;32m---> 22\u001b[0;31m         \u001b[0mx\u001b[0m \u001b[0;34m=\u001b[0m \u001b[0mz\u001b[0m\u001b[0;34m.\u001b[0m\u001b[0mpermute\u001b[0m\u001b[0;34m(\u001b[0m\u001b[0;36m0\u001b[0m\u001b[0;34m,\u001b[0m \u001b[0;36m3\u001b[0m\u001b[0;34m,\u001b[0m \u001b[0;36m1\u001b[0m\u001b[0;34m,\u001b[0m \u001b[0;36m2\u001b[0m\u001b[0;34m)\u001b[0m\u001b[0;34m\u001b[0m\u001b[0;34m\u001b[0m\u001b[0m\n\u001b[0m\u001b[1;32m     23\u001b[0m         \u001b[0mconv\u001b[0m \u001b[0;34m=\u001b[0m \u001b[0mself\u001b[0m\u001b[0;34m.\u001b[0m\u001b[0minit_conv\u001b[0m\u001b[0;34m(\u001b[0m\u001b[0mx\u001b[0m\u001b[0;34m)\u001b[0m\u001b[0;34m\u001b[0m\u001b[0;34m\u001b[0m\u001b[0m\n\u001b[1;32m     24\u001b[0m         \u001b[0mx\u001b[0m \u001b[0;34m=\u001b[0m \u001b[0mself\u001b[0m\u001b[0;34m.\u001b[0m\u001b[0mresidual_chain\u001b[0m\u001b[0;34m(\u001b[0m\u001b[0mconv\u001b[0m\u001b[0;34m)\u001b[0m \u001b[0;34m+\u001b[0m \u001b[0mconv\u001b[0m\u001b[0;34m\u001b[0m\u001b[0;34m\u001b[0m\u001b[0m\n",
            "\u001b[0;31mRuntimeError\u001b[0m: permute(sparse_coo): number of dimensions in the tensor input does not match the length of the desired ordering of dimensions i.e. input.dim() = 2 is not equal to len(dims) = 4"
          ]
        }
      ],
      "source": [
        "dataset = SneakersDataset(\"data\", target_size=IMAGE_SIZE)\n",
        "lr_data = torch.stack([dataset[i] for i in range(len(dataset))], dim=0)\n",
        "dc_fake_data = predict(model, torch.randn(lr_data.size(0), NOISE_DIM), BATCH_SIZE)\n",
        "print(\"LR data:\", lr_data.size())\n",
        "print(\"Fake LR data:\", dc_fake_data.size())"
      ]
    },
    {
      "cell_type": "code",
      "execution_count": 51,
      "metadata": {
        "id": "rFEC7ayo2T_i",
        "colab": {
          "base_uri": "https://localhost:8080/",
          "height": 635
        },
        "outputId": "c61b61ac-818e-4646-c178-db2dcdcd890c"
      },
      "outputs": [
        {
          "output_type": "display_data",
          "data": {
            "text/plain": [
              "<Figure size 2000x1000 with 32 Axes>"
            ],
            "image/png": "[encoded data removed]"
          },
          "metadata": {}
        }
      ],
      "source": [
        "visualize_images(dc_fake_data, 4, 8)"
      ]
    },
    {
      "cell_type": "markdown",
      "metadata": {
        "id": "NarPWs-M2T_j"
      },
      "source": [
        "# II. Super Resolution\n",
        "\n",
        "In this part of the notebook you will train a generative model that solves an image-to-image problem, with \"small images\" as a source domain and \"large images\" being a target domain.\n",
        "\n",
        "To specify the task, you are to **scale small images of 28x28 pixels up to size of 112x112 pixels**."
      ]
    },
    {
      "cell_type": "code",
      "execution_count": 21,
      "metadata": {
        "id": "Wdq-1LSb2T_j"
      },
      "outputs": [],
      "source": [
        "class SneakersSRDataModule(pl.LightningDataModule):\n",
        "    def __init__(self, data_dir: str, batch_size, shuffle=True):\n",
        "        super().__init__()\n",
        "        self.data_dir = data_dir\n",
        "        self.batch_size = batch_size\n",
        "        self.shuffle = shuffle\n",
        "\n",
        "    def setup(self, stage=None):\n",
        "        self.dataset = SneakersDataset(\n",
        "            self.data_dir,\n",
        "            input_size=LOW_RES_SIZE,\n",
        "            target_size=HIGH_RES_SIZE,\n",
        "        )\n",
        "\n",
        "    def train_dataloader(self):\n",
        "        return torch.utils.data.DataLoader(\n",
        "            self.dataset,\n",
        "            batch_size=self.batch_size,\n",
        "            shuffle=self.shuffle,\n",
        "        )"
      ]
    },
    {
      "cell_type": "code",
      "execution_count": 22,
      "metadata": {
        "id": "tITnKMbz2T_j",
        "colab": {
          "base_uri": "https://localhost:8080/",
          "height": 1000
        },
        "outputId": "3f7b34d1-fe72-41bf-a30c-65eb8a03c26b"
      },
      "outputs": [
        {
          "output_type": "display_data",
          "data": {
            "text/plain": [
              "<Figure size 800x1400 with 8 Axes>"
            ],
            "image/png": "[encoded data removed]"
          },
          "metadata": {}
        }
      ],
      "source": [
        "batch_size = 4\n",
        "dm = SneakersSRDataModule(\"data\", batch_size=batch_size)\n",
        "dm.setup()\n",
        "real_data_lr, real_data_hr = next(iter(dm.train_dataloader()))\n",
        "\n",
        "assert real_data_lr.shape[1:] == LOW_RES_SIZE + (3,)\n",
        "assert real_data_hr.shape[1:] == HIGH_RES_SIZE + (3,)\n",
        "\n",
        "plt.figure(figsize=(8, 14))\n",
        "for i in range(batch_size):\n",
        "    plt.subplot(batch_size, 2, 2 * i + 1)\n",
        "    plt.title(\"Low resolution\")\n",
        "    plt.imshow(data2img(real_data_lr[i]))\n",
        "    plt.axis(\"off\")\n",
        "\n",
        "    plt.subplot(batch_size, 2, 2 * i + 2)\n",
        "    plt.title(\"High resolution\")\n",
        "    plt.imshow(data2img(real_data_hr[i]))\n",
        "    plt.axis(\"off\")\n",
        "\n",
        "plt.show()"
      ]
    },
    {
      "cell_type": "markdown",
      "metadata": {
        "id": "4Vu7Kd2vHkTW"
      },
      "source": [
        "In the second part of this task, you are to train an [SRGAN](https://arxiv.org/abs/1609.04802)-like model. For your convinience, some layers are already implemented. Now it's your turn -- fill the gaps so the model passes the asserts below."
      ]
    },
    {
      "cell_type": "markdown",
      "metadata": {
        "id": "2XgweaOiH8Ue"
      },
      "source": [
        "### Generator (1.5 pts) [cross-check:6]"
      ]
    },
    {
      "cell_type": "markdown",
      "metadata": {
        "id": "zmTyXzOqIBzQ"
      },
      "source": [
        "To build a SRGAN Generator, you will need a basic Residual Block(filters):\n",
        "\n",
        "* Conv2D: 3x3, filters=filters, strides=1, padding=\"same\"\n",
        "* ReLU\n",
        "* Batch Normalization 2D with momentum(0.8)\n",
        "* Conv2D: 3x3, filters=filters, strides=1, padding=\"same\"\n",
        "* Batch Normalization 2D with momentum(0.8)\n",
        "* Sum up outputs with inputs\n"
      ]
    },
    {
      "cell_type": "code",
      "execution_count": 23,
      "metadata": {
        "id": "XcHFj_MEKEAy"
      },
      "outputs": [],
      "source": [
        "class ResidualBlock(nn.Module):\n",
        "    def __init__(self, filters: int):\n",
        "        super().__init__()\n",
        "        self.model = nn.Sequential(\n",
        "            # TODO: add layers\n",
        "            nn.Conv2d(filters, filters, 3, padding=1),\n",
        "            nn.ReLU(),\n",
        "            nn.BatchNorm2d(filters, momentum=0.8),\n",
        "            nn.Conv2d(filters, filters, 3, padding=1),\n",
        "            nn.BatchNorm2d(filters, momentum=0.8)\n",
        "        )\n",
        "\n",
        "    def forward(self, z):\n",
        "        return self.model(z) + z"
      ]
    },
    {
      "cell_type": "markdown",
      "metadata": {
        "id": "ADazxfW1KEMY"
      },
      "source": [
        "Upsampling Block(filters):\n",
        "\n",
        "* UpSampling2D(2)\n",
        "* Conv2D: 3x3, filters=filters, strides=1, padding=\"same\"\n",
        "* ReLU\n"
      ]
    },
    {
      "cell_type": "code",
      "execution_count": 24,
      "metadata": {
        "id": "YEqo5dKaKEcv"
      },
      "outputs": [],
      "source": [
        "class UpsamplingBlock(nn.Module):\n",
        "    def __init__(self, filters: int, input_filters: int = None):\n",
        "        super().__init__()\n",
        "        self.model = nn.Sequential(\n",
        "            # TODO: add layers\n",
        "            nn.Upsample(scale_factor=2, mode='bilinear'),\n",
        "            nn.Conv2d(input_filters if input_filters is not None else filters, filters, 3, padding=1),\n",
        "            nn.ReLU()\n",
        "        )\n",
        "\n",
        "    def forward(self, z):\n",
        "        return self.model(z)"
      ]
    },
    {
      "cell_type": "markdown",
      "metadata": {
        "id": "gNK9xG5NKEq_"
      },
      "source": [
        "Now, using these basic building blocks, one is able to define a SRGAN generator:"
      ]
    },
    {
      "cell_type": "code",
      "execution_count": 25,
      "metadata": {
        "id": "4mPTVp1hG9aQ"
      },
      "outputs": [],
      "source": [
        "class SRGenerator(nn.Module):\n",
        "    def __init__(self):\n",
        "        super().__init__()\n",
        "\n",
        "        self.init_conv = nn.Sequential(\n",
        "            nn.Conv2d(3, 64, kernel_size=9, padding=9 // 2, padding_mode=\"zeros\"),\n",
        "            nn.ReLU(inplace=True),\n",
        "        )\n",
        "        self.residual_chain = nn.Sequential(\n",
        "            *[ResidualBlock(64) for _ in range(16)],\n",
        "            nn.Conv2d(64, 64, kernel_size=3, padding=3 // 2, padding_mode=\"zeros\"),\n",
        "            nn.BatchNorm2d(64, momentum=0.8)\n",
        "        )\n",
        "        self.upsample_conv = nn.Sequential(\n",
        "            UpsamplingBlock(256, input_filters=64),\n",
        "            UpsamplingBlock(256),\n",
        "            nn.Conv2d(256, 3, kernel_size=9, padding=9 // 2, padding_mode=\"zeros\"),\n",
        "            nn.Tanh(),\n",
        "        )\n",
        "\n",
        "    def forward(self, z):\n",
        "        x = z.permute(0, 3, 1, 2)\n",
        "        conv = self.init_conv(x)\n",
        "        x = self.residual_chain(conv) + conv\n",
        "        img = self.upsample_conv(x)\n",
        "        # make channel axis last\n",
        "        img = img.permute(0, 2, 3, 1)\n",
        "        return img"
      ]
    },
    {
      "cell_type": "code",
      "execution_count": 26,
      "metadata": {
        "id": "5KWElBB1Sld-"
      },
      "outputs": [],
      "source": [
        "real_data_lr, real_data_hr = next(iter(dm.train_dataloader()))\n",
        "fake_hr = SRGenerator()(real_data_lr)\n",
        "assert fake_hr.shape == real_data_hr.shape"
      ]
    },
    {
      "cell_type": "markdown",
      "metadata": {
        "id": "yyoU_b6bXvAN"
      },
      "source": [
        "### Discriminator (1.5 pts) [cross-check:7]"
      ]
    },
    {
      "cell_type": "markdown",
      "metadata": {
        "id": "ZXjBXT93Xx75"
      },
      "source": [
        "First, define a Discriminator Block(filters, strides):\n",
        "\n",
        "* Conv2D: 3x3, filters=filters, strides=strides, padding=\"same\"\n",
        "* Leaky ReLU(0.2)\n",
        "* (optional) Batch Normalization 2D with momentum(0.8)"
      ]
    },
    {
      "cell_type": "code",
      "execution_count": 27,
      "metadata": {
        "id": "FzwB98UXWDYM"
      },
      "outputs": [],
      "source": [
        "class DBlock(nn.Module):\n",
        "    def __init__(\n",
        "        self,\n",
        "        input_filters: int,\n",
        "        filters: int,\n",
        "        strides: int,\n",
        "        batch_norm: bool = False,\n",
        "    ):\n",
        "        super().__init__()\n",
        "        layers = [\n",
        "            # TODO: add layers (except BatchNorm2d)\n",
        "            nn.Conv2d(input_filters, filters, 3, stride=strides, padding=1),\n",
        "            nn.LeakyReLU(0.2)\n",
        "        ]\n",
        "        if batch_norm:\n",
        "            layers.append(nn.BatchNorm2d(filters, momentum=0.8))\n",
        "        self.model = nn.Sequential(*layers)\n",
        "\n",
        "    def forward(self, z):\n",
        "        return self.model(z)"
      ]
    },
    {
      "cell_type": "markdown",
      "metadata": {
        "id": "r9XySSJen22I"
      },
      "source": [
        "Now, use this block to build up SRGAN discriminator:\n",
        "\n",
        "* DBlock(filters=64, strides=1) with Batch Normalization\n",
        "* DBlock(filters=64, strides=2)\n",
        "* DBlock(filters=128, strides=1)\n",
        "* DBlock(filters=128, strides=2)\n",
        "* DBlock(filters=256, strides=1)\n",
        "* DBlock(filters=256, strides=2)\n",
        "* DBlock(filters=512, strides=1)\n",
        "* DBlock(filters=512, strides=2)\n",
        "* Flatten\n",
        "* Fully connected with output size of 1024\n",
        "* Leaky ReLU(0.2)\n",
        "* Fully connected with output size of 1\n",
        "* Sigmoid"
      ]
    },
    {
      "cell_type": "code",
      "execution_count": 28,
      "metadata": {
        "id": "TE1_Ea-Zn3Po"
      },
      "outputs": [],
      "source": [
        "class SRDiscriminator(nn.Module):\n",
        "    def __init__(self):\n",
        "        super().__init__()\n",
        "        self.model = nn.Sequential(\n",
        "            # TODO: add layers\n",
        "            DBlock(3, 64, strides=1, batch_norm=True),\n",
        "            DBlock(64, 64, strides=2),\n",
        "\n",
        "            DBlock(64, 128, strides=1),\n",
        "            DBlock(128, 128, strides=2),\n",
        "\n",
        "            DBlock(128, 256, strides=1),\n",
        "            DBlock(256, 256, strides=2),\n",
        "\n",
        "            DBlock(256, 512, strides=1),\n",
        "            DBlock(512, 512, strides=2),\n",
        "\n",
        "            nn.Flatten(),\n",
        "            nn.Linear(512 * 7 * 7, 1024),\n",
        "            nn.LeakyReLU(0.2),\n",
        "            nn.Linear(1024, 1),\n",
        "            nn.Sigmoid()\n",
        "        )\n",
        "\n",
        "    def forward(self, z):\n",
        "        x = z.permute(0, 3, 1, 2)\n",
        "        return self.model(x)"
      ]
    },
    {
      "cell_type": "code",
      "execution_count": 29,
      "metadata": {
        "id": "RaAKs9BMp47b"
      },
      "outputs": [],
      "source": [
        "fake_probas = SRDiscriminator()(fake_hr)\n",
        "assert fake_probas.shape[1:] == (1,)"
      ]
    },
    {
      "cell_type": "markdown",
      "metadata": {
        "id": "MS1yeB5cquyO"
      },
      "source": [
        "Typically, SRGAN is trained with additional loss on features from pretrained VGG-19. However, you task will be a bit simplier: use **mean squared error** between real and fake data instead."
      ]
    },
    {
      "cell_type": "code",
      "execution_count": 30,
      "metadata": {
        "id": "SaydO1FJqA0G"
      },
      "outputs": [],
      "source": [
        "class SRGAN(pl.LightningModule):\n",
        "    def __init__(self, validation_lr):\n",
        "        super().__init__()\n",
        "\n",
        "        # Important: This property activates manual optimization.\n",
        "        self.automatic_optimization = False\n",
        "\n",
        "        self.generator = SRGenerator()\n",
        "        self.discriminator = SRDiscriminator()\n",
        "\n",
        "        self.validation_lr = validation_lr\n",
        "        self.bce = nn.BCELoss()\n",
        "\n",
        "    def forward(self, z):\n",
        "        return self.generator(z)\n",
        "\n",
        "    def gan_loss(self, y_hat, y):\n",
        "        # TODO: implement loss\n",
        "        return self.bce(y_hat, y)\n",
        "\n",
        "    def ls_loss(self, y_hat, y):\n",
        "        # TODO: implement loss\n",
        "        return ((y_hat - y) ** 2).mean()\n",
        "\n",
        "    def mse_loss(self, sr_imgs, hr_imgs):\n",
        "        # TODO: implement MSE loss\n",
        "        return ((sr_imgs - hr_imgs) ** 2).mean()\n",
        "\n",
        "    def training_step(self, imgs, batch_idx):\n",
        "        opt_g, opt_d = self.optimizers()\n",
        "        lr_imgs, hr_imgs = imgs\n",
        "\n",
        "        # optimize generator\n",
        "        sr_imgs = self(lr_imgs)\n",
        "\n",
        "        # all fake, but we want to be real\n",
        "        valid = torch.ones(lr_imgs.size(0), 1)\n",
        "        valid = valid.type_as(lr_imgs)\n",
        "\n",
        "        gan_loss = self.gan_loss(self.discriminator(sr_imgs), valid)\n",
        "        mse_loss = self.mse_loss(sr_imgs, hr_imgs)\n",
        "\n",
        "        g_loss = 1 * mse_loss + 0.5 * gan_loss\n",
        "        self.log(\"g_loss\", g_loss, prog_bar=True)\n",
        "        self.log(\"gan_loss\", gan_loss, prog_bar=True)\n",
        "        self.log(\"mse_loss\", mse_loss, prog_bar=True)\n",
        "\n",
        "        opt_g.zero_grad()\n",
        "        self.manual_backward(g_loss)\n",
        "        opt_g.step()\n",
        "\n",
        "        # optimize discriminator\n",
        "        valid = torch.ones(hr_imgs.size(0), 1)\n",
        "        valid = valid.type_as(hr_imgs)\n",
        "        real_loss = self.ls_loss(self.discriminator(hr_imgs), valid)\n",
        "\n",
        "        fake = torch.zeros(lr_imgs.size(0), 1)\n",
        "        fake = fake.type_as(lr_imgs)\n",
        "        fake_loss = self.ls_loss(self.discriminator(self(lr_imgs).detach()), fake)\n",
        "\n",
        "        d_loss = (real_loss + fake_loss) / 2\n",
        "        self.log(\"d_loss\", d_loss, prog_bar=True)\n",
        "\n",
        "        opt_d.zero_grad()\n",
        "        self.manual_backward(d_loss)\n",
        "        opt_d.step()\n",
        "\n",
        "    def configure_optimizers(self):\n",
        "        opt_g = torch.optim.Adam(\n",
        "            self.generator.parameters(),\n",
        "            lr=2e-4,\n",
        "            betas=(0.5, 0.999),\n",
        "        )\n",
        "        opt_d = torch.optim.Adam(\n",
        "            self.discriminator.parameters(),\n",
        "            lr=1e-3,\n",
        "            betas=(0.5, 0.999),\n",
        "        )\n",
        "        return [opt_g, opt_d], []\n",
        "\n",
        "    def on_epoch_end(self):\n",
        "        z = self.validation_lr.type_as(self.generator.init_conv[0].weight)\n",
        "        # channels before pixels\n",
        "        sample_imgs = self(z).permute(0, 3, 1, 2)\n",
        "        grid = torchvision.utils.make_grid(sample_imgs)\n",
        "        self.logger.experiment.add_image(\"generated_images\", grid, self.current_epoch)"
      ]
    },
    {
      "cell_type": "code",
      "execution_count": null,
      "metadata": {
        "id": "71X-grsBcsAt"
      },
      "outputs": [],
      "source": [
        "# %load_ext tensorboard\n",
        "# %tensorboard --logdir lightning_logs"
      ]
    },
    {
      "cell_type": "markdown",
      "metadata": {
        "id": "1KmvmfcDvXSy"
      },
      "source": [
        "### Training"
      ]
    },
    {
      "cell_type": "code",
      "execution_count": 31,
      "metadata": {
        "id": "0xWztpoFse_y"
      },
      "outputs": [],
      "source": [
        "train_kwargs[\"max_epochs\"] = 9"
      ]
    },
    {
      "cell_type": "code",
      "execution_count": 32,
      "metadata": {
        "id": "qrGJI_gTuJcR",
        "colab": {
          "base_uri": "https://localhost:8080/",
          "height": 390,
          "referenced_widgets": [
            "7bd4918558dd4e73ac7a949d0cbcfcc6",
            "af8e797871c74776a54a01db8edae85a",
            "e8c54554d52e4465bebed61bee50fe92",
            "290ff83ab38343e6a60b135836ea5e00",
            "eb677ef98cc94c9bb5b1eeb0bb35b87d",
            "aaf7f84184d4438fac96d30f2402514d",
            "57f28eea51a9479eb97a5d759a39b066",
            "6b76bff9e5b74dd28b987e77c8b3b86f",
            "934d3a3944eb4ecf85d5e8c0a8a300f0",
            "be8adcc8878448db8582a609290398f8",
            "0cfa956654a8481da16d193260c602c7"
          ]
        },
        "outputId": "2a8c5d56-2a2f-49fb-9743-3c3fba2ac211"
      },
      "outputs": [
        {
          "output_type": "stream",
          "name": "stderr",
          "text": [
            "INFO:pytorch_lightning.utilities.rank_zero:GPU available: False, used: False\n",
            "INFO:pytorch_lightning.utilities.rank_zero:TPU available: False, using: 0 TPU cores\n",
            "INFO:pytorch_lightning.utilities.rank_zero:IPU available: False, using: 0 IPUs\n",
            "INFO:pytorch_lightning.utilities.rank_zero:HPU available: False, using: 0 HPUs\n",
            "WARNING:pytorch_lightning.loggers.tensorboard:Missing logger folder: /content/lightning_logs\n",
            "INFO:pytorch_lightning.callbacks.model_summary:\n",
            "  | Name          | Type            | Params\n",
            "--------------------------------------------------\n",
            "0 | generator     | SRGenerator     | 2.0 M \n",
            "1 | discriminator | SRDiscriminator | 30.4 M\n",
            "2 | bce           | BCELoss         | 0     \n",
            "--------------------------------------------------\n",
            "32.4 M    Trainable params\n",
            "0         Non-trainable params\n",
            "32.4 M    Total params\n",
            "129.665   Total estimated model params size (MB)\n",
            "/usr/local/lib/python3.10/dist-packages/pytorch_lightning/trainer/connectors/data_connector.py:441: The 'train_dataloader' does not have many workers which may be a bottleneck. Consider increasing the value of the `num_workers` argument` to `num_workers=1` in the `DataLoader` to improve performance.\n"
          ]
        },
        {
          "output_type": "display_data",
          "data": {
            "text/plain": [
              "Training: |          | 0/? [00:00<?, ?it/s]"
            ],
            "application/vnd.jupyter.widget-view+json": {
              "version_major": 2,
              "version_minor": 0,
              "model_id": "7bd4918558dd4e73ac7a949d0cbcfcc6"
            }
          },
          "metadata": {}
        },
        {
          "output_type": "stream",
          "name": "stderr",
          "text": [
            "/usr/local/lib/python3.10/dist-packages/pytorch_lightning/trainer/call.py:54: Detected KeyboardInterrupt, attempting graceful shutdown...\n"
          ]
        }
      ],
      "source": [
        "dm = SneakersSRDataModule(\"data\", batch_size=16)\n",
        "dm.setup()\n",
        "model = SRGAN(validation_lr=next(iter(dm.train_dataloader()))[0][:4])\n",
        "trainer = pl.Trainer(**train_kwargs)\n",
        "trainer.fit(model, dm)"
      ]
    },
    {
      "cell_type": "markdown",
      "metadata": {
        "id": "uuWpdw7_vbxu"
      },
      "source": [
        "Prepare data for **III. GAN metrics**:"
      ]
    },
    {
      "cell_type": "code",
      "execution_count": 33,
      "metadata": {
        "id": "lZC8EP_xvhVD",
        "colab": {
          "base_uri": "https://localhost:8080/",
          "height": 250
        },
        "outputId": "ac54dbeb-e747-4962-997f-e039d395c1f7"
      },
      "outputs": [
        {
          "output_type": "error",
          "ename": "NameError",
          "evalue": "ignored",
          "traceback": [
            "\u001b[0;31m---------------------------------------------------------------------------\u001b[0m",
            "\u001b[0;31mNameError\u001b[0m                                 Traceback (most recent call last)",
            "\u001b[0;32m<ipython-input-33-a2ae0b91985e>\u001b[0m in \u001b[0;36m<cell line: 9>\u001b[0;34m()\u001b[0m\n\u001b[1;32m      7\u001b[0m \u001b[0;34m\u001b[0m\u001b[0m\n\u001b[1;32m      8\u001b[0m \u001b[0mbatch_size\u001b[0m \u001b[0;34m=\u001b[0m \u001b[0;36m16\u001b[0m\u001b[0;34m\u001b[0m\u001b[0;34m\u001b[0m\u001b[0m\n\u001b[0;32m----> 9\u001b[0;31m \u001b[0msr_fake_data_from_real_lr\u001b[0m \u001b[0;34m=\u001b[0m \u001b[0mpredict\u001b[0m\u001b[0;34m(\u001b[0m\u001b[0mmodel\u001b[0m\u001b[0;34m,\u001b[0m \u001b[0mlr_data\u001b[0m\u001b[0;34m,\u001b[0m \u001b[0mbatch_size\u001b[0m\u001b[0;34m)\u001b[0m\u001b[0;34m\u001b[0m\u001b[0;34m\u001b[0m\u001b[0m\n\u001b[0m\u001b[1;32m     10\u001b[0m \u001b[0msr_fake_data_from_fake_lr\u001b[0m \u001b[0;34m=\u001b[0m \u001b[0mpredict\u001b[0m\u001b[0;34m(\u001b[0m\u001b[0mmodel\u001b[0m\u001b[0;34m,\u001b[0m \u001b[0mdc_fake_data\u001b[0m\u001b[0;34m,\u001b[0m \u001b[0mbatch_size\u001b[0m\u001b[0;34m)\u001b[0m\u001b[0;34m\u001b[0m\u001b[0;34m\u001b[0m\u001b[0m\n\u001b[1;32m     11\u001b[0m \u001b[0mprint\u001b[0m\u001b[0;34m(\u001b[0m\u001b[0;34m\"HR data:\"\u001b[0m\u001b[0;34m,\u001b[0m \u001b[0mhr_data\u001b[0m\u001b[0;34m.\u001b[0m\u001b[0msize\u001b[0m\u001b[0;34m(\u001b[0m\u001b[0;34m)\u001b[0m\u001b[0;34m)\u001b[0m\u001b[0;34m\u001b[0m\u001b[0;34m\u001b[0m\u001b[0m\n",
            "\u001b[0;31mNameError\u001b[0m: name 'predict' is not defined"
          ]
        }
      ],
      "source": [
        "dm = SneakersSRDataModule(\"data\", batch_size=BATCH_SIZE)\n",
        "dm.setup()\n",
        "hr_data = []\n",
        "for lr, hr in dm.train_dataloader():\n",
        "    hr_data.append(hr)\n",
        "hr_data = torch.cat(hr_data, dim=0)\n",
        "\n",
        "batch_size = 16\n",
        "sr_fake_data_from_real_lr = predict(model, lr_data, batch_size)\n",
        "sr_fake_data_from_fake_lr = predict(model, dc_fake_data, batch_size)\n",
        "print(\"HR data:\", hr_data.size())\n",
        "print(\"SR from real LR:\", sr_fake_data_from_real_lr.size())\n",
        "print(\"SR from fake LR:\", sr_fake_data_from_fake_lr.size())"
      ]
    },
    {
      "cell_type": "code",
      "execution_count": null,
      "metadata": {
        "id": "kmLKMN_rujEn"
      },
      "outputs": [],
      "source": [
        "visualize_images(sr_fake_data_from_real_lr, 4, 8)"
      ]
    },
    {
      "cell_type": "code",
      "execution_count": null,
      "metadata": {
        "id": "mhlAvVbpM9a9"
      },
      "outputs": [],
      "source": [
        "visualize_images(sr_fake_data_from_fake_lr, 4, 8)"
      ]
    },
    {
      "cell_type": "markdown",
      "metadata": {
        "id": "auJUUp_ArHkb"
      },
      "source": [
        "# III. GAN metrics"
      ]
    },
    {
      "cell_type": "markdown",
      "metadata": {
        "id": "Sr1sSMURrPLf"
      },
      "source": [
        "There exists a few metrics used to measure GAN performance. Some of them are based on comparing real samples against generated ones, while the other rely on additional pretrained models that are applied to both real and generated data in order to accumulate high-level statistics. In this task, you are going to use two metrics representing these two approaches -- namely, [Precision-Recall Density](https://arxiv.org/pdf/1806.00035) and [Fréchet Inception Distance](https://arxiv.org/pdf/1706.08500)."
      ]
    },
    {
      "cell_type": "markdown",
      "metadata": {
        "id": "KJDHoskhrMso"
      },
      "source": [
        "##  Precision-Recall Density (PRD score) (1.0 pts) [cross-check:8]\n",
        "\n",
        "Your first task is to implement [Precision-Recall Density](https://arxiv.org/pdf/1806.00035.pdf) score."
      ]
    },
    {
      "cell_type": "code",
      "execution_count": 35,
      "metadata": {
        "id": "P_oUr0sjrOti"
      },
      "outputs": [],
      "source": [
        "from sklearn.cluster import KMeans, MiniBatchKMeans\n",
        "\n",
        "\n",
        "def bin_counts(real_data, fake_data, n_bins=25):\n",
        "    real_data = real_data.reshape(len(real_data), -1)\n",
        "    fake_data = fake_data.reshape(len(fake_data), -1)\n",
        "\n",
        "    data = np.vstack([real_data, fake_data])\n",
        "\n",
        "    kmeans = MiniBatchKMeans(n_clusters=n_bins, n_init=10).fit(data)\n",
        "\n",
        "    real_labels = kmeans.labels_[: len(real_data)]\n",
        "    fake_labels = kmeans.labels_[len(real_data) :]\n",
        "\n",
        "    real_density, _ = np.histogram(\n",
        "        real_labels,\n",
        "        bins=n_bins,\n",
        "        range=[0, n_bins],\n",
        "        density=True,\n",
        "    )\n",
        "    # TODO: same for fake_labels\n",
        "    fake_density, _ = np.histogram(\n",
        "        fake_labels,\n",
        "        bins=n_bins,\n",
        "        range=[0, n_bins],\n",
        "        density=True,\n",
        "    )\n",
        "\n",
        "    return real_density, fake_density\n",
        "\n",
        "\n",
        "def sample_bin_counts(real_data, fake_data, n_bins=25, repeat_number=10, verbose=True):\n",
        "    real_densities = []\n",
        "    fake_densities = []\n",
        "    counter = range(repeat_number)\n",
        "    if verbose:\n",
        "        counter = tqdm.tqdm(counter)\n",
        "    for _ in counter:\n",
        "        real, fake = bin_counts(real_data, fake_data, n_bins=n_bins)\n",
        "        real_densities.append(real)\n",
        "        fake_densities.append(fake)\n",
        "    return np.array(real_densities).mean(axis=0), np.array(fake_densities).mean(axis=0)"
      ]
    },
    {
      "cell_type": "code",
      "execution_count": 36,
      "metadata": {
        "id": "V2RUvLSmpeB3"
      },
      "outputs": [],
      "source": [
        "import math\n",
        "\n",
        "from sklearn.metrics import auc\n",
        "\n",
        "\n",
        "def calculate_alpha_beta(real_density, fake_density, n_thetas=1000):\n",
        "    assert real_density.shape == fake_density.shape\n",
        "\n",
        "    alpha = []\n",
        "    beta = []\n",
        "\n",
        "    thetas = np.linspace(1e-6, np.pi / 2 - 1e-6, num=n_thetas)\n",
        "    for theta in thetas:\n",
        "        tan = math.tan(theta)\n",
        "        # TODO: implement paper formula\n",
        "        alpha.append(np.minimum(tan * real_density, fake_density).sum())\n",
        "        beta.append(np.minimum(real_density, fake_density / tan).sum())\n",
        "\n",
        "    return alpha, beta\n",
        "\n",
        "\n",
        "def calculate_prd_score(real_data, fake_data):\n",
        "    # Calculate bin counts from real and generated data multiple times\n",
        "    # TODO\n",
        "    real_density, fake_density = sample_bin_counts(real_data, fake_data)\n",
        "\n",
        "    plt.bar(\n",
        "        range(len(real_density)),\n",
        "        real_density,\n",
        "        width=1,\n",
        "        color=\"g\",\n",
        "        alpha=0.5,\n",
        "        label=\"Real density\",\n",
        "    )\n",
        "    plt.bar(\n",
        "        range(len(fake_density)),\n",
        "        fake_density,\n",
        "        width=1,\n",
        "        color=\"r\",\n",
        "        alpha=0.5,\n",
        "        label=\"Fake density\",\n",
        "    )\n",
        "    plt.legend()\n",
        "    plt.show()\n",
        "\n",
        "    # Calculate alpha and beta\n",
        "    # TODO\n",
        "    alpha, beta = calculate_alpha_beta(real_density, fake_density)\n",
        "\n",
        "    # Calculate area under curve (AUC) for alpha and beta\n",
        "    # TODO\n",
        "    score = auc(alpha, beta)\n",
        "\n",
        "    return score, alpha, beta"
      ]
    },
    {
      "cell_type": "markdown",
      "metadata": {
        "id": "eXk1fvzBpnAw"
      },
      "source": [
        "Calculate PRD score for DCGAN (task I). You should pass `lr_data` and `dc_fake_data` to scoring function."
      ]
    },
    {
      "cell_type": "code",
      "execution_count": 37,
      "metadata": {
        "id": "Wya_v6L5pn_3",
        "colab": {
          "base_uri": "https://localhost:8080/",
          "height": 250
        },
        "outputId": "28bb536d-dde2-4716-ba21-f4a3efb82a78"
      },
      "outputs": [
        {
          "output_type": "error",
          "ename": "NameError",
          "evalue": "ignored",
          "traceback": [
            "\u001b[0;31m---------------------------------------------------------------------------\u001b[0m",
            "\u001b[0;31mNameError\u001b[0m                                 Traceback (most recent call last)",
            "\u001b[0;32m<ipython-input-37-59545e57d81a>\u001b[0m in \u001b[0;36m<cell line: 1>\u001b[0;34m()\u001b[0m\n\u001b[1;32m      1\u001b[0m score, _, _ = calculate_prd_score(\n\u001b[0;32m----> 2\u001b[0;31m     \u001b[0mlr_data\u001b[0m\u001b[0;34m,\u001b[0m\u001b[0;34m\u001b[0m\u001b[0;34m\u001b[0m\u001b[0m\n\u001b[0m\u001b[1;32m      3\u001b[0m     \u001b[0mdc_fake_data\u001b[0m\u001b[0;34m,\u001b[0m\u001b[0;34m\u001b[0m\u001b[0;34m\u001b[0m\u001b[0m\n\u001b[1;32m      4\u001b[0m )\n\u001b[1;32m      5\u001b[0m \u001b[0mprint\u001b[0m\u001b[0;34m(\u001b[0m\u001b[0;34m\"Score:\"\u001b[0m\u001b[0;34m,\u001b[0m \u001b[0mscore\u001b[0m\u001b[0;34m)\u001b[0m\u001b[0;34m\u001b[0m\u001b[0;34m\u001b[0m\u001b[0m\n",
            "\u001b[0;31mNameError\u001b[0m: name 'lr_data' is not defined"
          ]
        }
      ],
      "source": [
        "score, _, _ = calculate_prd_score(\n",
        "    lr_data,\n",
        "    dc_fake_data,\n",
        ")\n",
        "print(\"Score:\", score)"
      ]
    },
    {
      "cell_type": "markdown",
      "metadata": {
        "id": "T2zud1znprDY"
      },
      "source": [
        "Now use PRD score to compare high resolution data generated from real low resolution data (`sr_fake_data_from_real_lr`) and fake resolution data (`sr_fake_data_from_fake_lr`):"
      ]
    },
    {
      "cell_type": "code",
      "execution_count": null,
      "metadata": {
        "id": "RStA_RiapsEt"
      },
      "outputs": [],
      "source": [
        "print(\"Generated from real LR\")\n",
        "score_real, alpha_real, beta_real = calculate_prd_score(\n",
        "    hr_data,\n",
        "    sr_fake_data_from_real_lr,\n",
        ")\n",
        "print(\"Score:\", score_real, end=\"\\n\\n\")\n",
        "\n",
        "print(\"Generated from fake LR\")\n",
        "score_fake, alpha_fake, beta_fake = calculate_prd_score(\n",
        "    hr_data,\n",
        "    sr_fake_data_from_fake_lr,\n",
        ")\n",
        "print(\"Score:\", score_fake, end=\"\\n\\n\")\n",
        "\n",
        "fig, ax = plt.subplots(figsize=(8, 8))\n",
        "ax.tick_params(axis=\"both\", which=\"major\", labelsize=8)\n",
        "plt.xlim([0, 1])\n",
        "plt.ylim([0, 1])\n",
        "plt.xlabel(\"Recall\")\n",
        "plt.ylabel(\"Precision\")\n",
        "plt.plot(alpha_real, beta_real, color=\"g\", label=\"Generated from real LR\")\n",
        "plt.plot(alpha_fake, beta_fake, color=\"r\", label=\"Generated from fake LR\")\n",
        "plt.legend()\n",
        "plt.show()"
      ]
    },
    {
      "cell_type": "markdown",
      "metadata": {
        "id": "w3qk_19kR_zr"
      },
      "source": [
        "## Fréchet Inception Distance (FID score) (1.0 pts) [cross-check:9]\n",
        "\n",
        "[Frechet Inception Distance](https://arxiv.org/pdf/1706.08500) is an improved version of [Inception score](https://arxiv.org/abs/1606.03498), that additionally calculates the statistics of real data and compares it to the statistics of generated data. It is probably the most widely-used option for evaluating GANs, and relies on features extracted with [InceptionV3](https://arxiv.org/abs/1512.00567) pretrained on ImageNet. These features assumed to come from a multivariate Gaussian distribution, so Fréchet distance between two multivariate Gaussians can be calculated:\n",
        "\n",
        "$$\\text{FID} = ||\\mu_r - \\mu_g||^2 + \\text{Tr} (\\Sigma_r + \\Sigma_g - 2 (\\Sigma_r \\Sigma_g)^{1/2}),$$\n",
        "\n",
        "where $X_r \\sim \\mathcal{N} (\\mu_r, \\Sigma_r)$ and $X_g \\sim \\mathcal{N} (\\mu_g, \\Sigma_g)$ are the 2048-dimensional activations of the Inception-v3 pool3 layer for real and generated samples respectively."
      ]
    },
    {
      "cell_type": "markdown",
      "metadata": {
        "id": "VcHc-r8oSGj7"
      },
      "source": [
        "First, create InceptionV3 ([from torch repository](https://pytorch.org/hub/pytorch_vision_inception_v3/)) model. As you will be using it for feature extraction only, we should remove last fully connected layer."
      ]
    },
    {
      "cell_type": "code",
      "execution_count": 41,
      "metadata": {
        "id": "d01uHGsrVzWR"
      },
      "outputs": [],
      "source": [
        "class InceptionHeadless(pl.LightningModule):\n",
        "    def __init__(self):\n",
        "        super().__init__()\n",
        "        self.upsample = nn.Upsample(scale_factor=2)\n",
        "        self.model = torch.hub.load(\"pytorch/vision\", \"inception_v3\", pretrained=True)\n",
        "        # remove last fc layer\n",
        "        self.model.fc = nn.Identity()\n",
        "\n",
        "    def forward(self, z):\n",
        "        x = z.permute(0, 3, 1, 2)\n",
        "        x = self.upsample(x)\n",
        "        return self.model(x)"
      ]
    },
    {
      "cell_type": "code",
      "execution_count": 42,
      "metadata": {
        "id": "3U0MbG9KzIMn",
        "colab": {
          "base_uri": "https://localhost:8080/"
        },
        "outputId": "26eb6948-d496-4ced-e00a-38dfb984fe1b"
      },
      "outputs": [
        {
          "output_type": "stream",
          "name": "stderr",
          "text": [
            "Downloading: \"https://github.com/pytorch/vision/zipball/main\" to /root/.cache/torch/hub/main.zip\n",
            "/usr/local/lib/python3.10/dist-packages/torchvision/models/_utils.py:208: UserWarning: The parameter 'pretrained' is deprecated since 0.13 and may be removed in the future, please use 'weights' instead.\n",
            "  warnings.warn(\n",
            "/usr/local/lib/python3.10/dist-packages/torchvision/models/_utils.py:223: UserWarning: Arguments other than a weight enum or `None` for 'weights' are deprecated since 0.13 and may be removed in the future. The current behavior is equivalent to passing `weights=Inception_V3_Weights.IMAGENET1K_V1`. You can also use `weights=Inception_V3_Weights.DEFAULT` to get the most up-to-date weights.\n",
            "  warnings.warn(msg)\n",
            "Downloading: \"https://download.pytorch.org/models/inception_v3_google-0cc3c7bd.pth\" to /root/.cache/torch/hub/checkpoints/inception_v3_google-0cc3c7bd.pth\n",
            "\n",
            "  0%|          | 0.00/104M [00:00<?, ?B/s]\u001b[A\n",
            "  6%|▌         | 5.88M/104M [00:00<00:01, 61.6MB/s]\u001b[A\n",
            " 18%|█▊        | 19.1M/104M [00:00<00:00, 107MB/s] \u001b[A\n",
            " 30%|██▉       | 30.9M/104M [00:00<00:00, 114MB/s]\u001b[A\n",
            " 43%|████▎     | 44.6M/104M [00:00<00:00, 126MB/s]\u001b[A\n",
            " 56%|█████▌    | 57.9M/104M [00:00<00:00, 131MB/s]\u001b[A\n",
            " 68%|██████▊   | 70.3M/104M [00:00<00:00, 125MB/s]\u001b[A\n",
            " 79%|███████▉  | 82.3M/104M [00:00<00:00, 98.3MB/s]\u001b[A\n",
            " 89%|████████▉ | 92.5M/104M [00:00<00:00, 94.4MB/s]\u001b[A\n",
            "100%|██████████| 104M/104M [00:01<00:00, 103MB/s] \n"
          ]
        }
      ],
      "source": [
        "inception = InceptionHeadless()\n",
        "inception.eval()\n",
        "\n",
        "with torch.no_grad():\n",
        "    assert inception(hr_data[:32]).shape[1:] == (2048,)"
      ]
    },
    {
      "cell_type": "code",
      "execution_count": 43,
      "metadata": {
        "id": "ILNxlRbP25Ec"
      },
      "outputs": [],
      "source": [
        "def calculate_activations(data, batch_size=32, verbose=False):\n",
        "    # Calculate activations of Pool3 layer of InceptionV3\n",
        "    if verbose:\n",
        "        print(\"Calculating activations...\")\n",
        "    activations = predict(inception, data, batch_size=32)\n",
        "    return activations\n",
        "\n",
        "\n",
        "def calculate_activation_statistics(activations):\n",
        "    # Calculate mean and covariance of activations. Mind the dimensions!\n",
        "    # TODO\n",
        "    mu = activations.mean(axis=0)\n",
        "    t = activations - mu\n",
        "    # TODO\n",
        "    sigma = torch.cov(t.T)\n",
        "    return mu, sigma"
      ]
    },
    {
      "cell_type": "code",
      "execution_count": 44,
      "metadata": {
        "id": "ohaJKXnVzIS8",
        "colab": {
          "base_uri": "https://localhost:8080/"
        },
        "outputId": "f08a9d40-31ec-42b7-b5c1-ca3ff7ecb840"
      },
      "outputs": [
        {
          "output_type": "stream",
          "name": "stdout",
          "text": [
            "Calculating activations...\n"
          ]
        },
        {
          "output_type": "stream",
          "name": "stderr",
          "text": [
            "\n",
            "  0%|          | 0/180 [00:00<?, ?it/s]\u001b[A\n",
            "  1%|          | 1/180 [00:06<18:19,  6.14s/it]\u001b[A\n",
            "  1%|          | 2/180 [00:10<15:52,  5.35s/it]\u001b[A\n",
            "  2%|▏         | 3/180 [00:16<16:26,  5.57s/it]\u001b[A\n",
            "  2%|▏         | 4/180 [00:21<15:40,  5.34s/it]\u001b[A\n",
            "  3%|▎         | 5/180 [00:29<17:45,  6.09s/it]\u001b[A\n",
            "  3%|▎         | 6/180 [00:34<16:56,  5.84s/it]\u001b[A\n",
            "  4%|▍         | 7/180 [00:39<15:51,  5.50s/it]\u001b[A\n",
            "  4%|▍         | 8/180 [00:45<16:12,  5.65s/it]\u001b[A\n",
            "  5%|▌         | 9/180 [00:50<15:23,  5.40s/it]\u001b[A\n",
            "  6%|▌         | 10/180 [00:55<15:03,  5.31s/it]\u001b[A\n",
            "  6%|▌         | 11/180 [01:00<15:13,  5.40s/it]\u001b[A\n",
            "  7%|▋         | 12/180 [01:05<14:37,  5.22s/it]\u001b[A\n",
            "  7%|▋         | 13/180 [01:11<15:11,  5.46s/it]\u001b[A\n",
            "  8%|▊         | 14/180 [01:17<15:02,  5.44s/it]\u001b[A\n",
            "  8%|▊         | 15/180 [01:22<14:44,  5.36s/it]\u001b[A\n",
            "  9%|▉         | 16/180 [01:27<14:53,  5.45s/it]\u001b[A\n",
            "  9%|▉         | 17/180 [01:32<14:16,  5.25s/it]\u001b[A\n",
            " 10%|█         | 18/180 [01:38<14:49,  5.49s/it]\u001b[A\n",
            " 11%|█         | 19/180 [01:43<14:11,  5.29s/it]\u001b[A\n",
            " 11%|█         | 20/180 [01:48<13:47,  5.17s/it]\u001b[A\n",
            " 12%|█▏        | 21/180 [01:54<14:15,  5.38s/it]\u001b[A\n",
            " 12%|█▏        | 22/180 [01:59<13:42,  5.21s/it]\u001b[A\n",
            " 13%|█▎        | 23/180 [02:05<14:15,  5.45s/it]\u001b[A\n",
            " 13%|█▎        | 24/180 [02:09<13:40,  5.26s/it]\u001b[A\n",
            " 14%|█▍        | 25/180 [02:14<13:14,  5.12s/it]\u001b[A\n",
            " 14%|█▍        | 26/180 [02:20<13:48,  5.38s/it]\u001b[A\n",
            " 15%|█▌        | 27/180 [02:25<13:17,  5.21s/it]\u001b[A\n",
            " 16%|█▌        | 28/180 [02:31<13:37,  5.38s/it]\u001b[A\n",
            " 16%|█▌        | 29/180 [02:36<13:20,  5.30s/it]\u001b[A\n",
            " 17%|█▋        | 30/180 [02:41<12:52,  5.15s/it]\u001b[A\n",
            " 17%|█▋        | 31/180 [02:47<13:26,  5.41s/it]\u001b[A\n",
            " 18%|█▊        | 32/180 [02:53<14:09,  5.74s/it]\u001b[A\n",
            " 18%|█▊        | 33/180 [02:59<14:16,  5.83s/it]\u001b[A\n",
            " 19%|█▉        | 34/180 [03:05<13:58,  5.74s/it]\u001b[A\n",
            " 19%|█▉        | 35/180 [03:10<13:40,  5.66s/it]\u001b[A\n",
            " 20%|██        | 36/180 [03:16<13:20,  5.56s/it]\u001b[A\n",
            " 21%|██        | 37/180 [03:20<12:43,  5.34s/it]\u001b[A\n",
            " 21%|██        | 38/180 [03:26<13:05,  5.53s/it]\u001b[A\n",
            " 22%|██▏       | 39/180 [03:31<12:30,  5.32s/it]\u001b[A\n",
            " 22%|██▏       | 40/180 [03:36<12:19,  5.28s/it]\u001b[A\n",
            " 23%|██▎       | 41/180 [03:42<12:27,  5.38s/it]\u001b[A\n",
            " 23%|██▎       | 42/180 [03:47<11:57,  5.20s/it]\u001b[A\n",
            " 24%|██▍       | 43/180 [03:53<12:25,  5.44s/it]\u001b[A\n",
            " 24%|██▍       | 44/180 [03:58<11:54,  5.25s/it]\u001b[A\n",
            " 25%|██▌       | 45/180 [04:03<11:34,  5.14s/it]\u001b[A\n",
            " 26%|██▌       | 46/180 [04:08<11:56,  5.35s/it]\u001b[A\n",
            " 26%|██▌       | 47/180 [04:13<11:30,  5.19s/it]\u001b[A\n",
            " 27%|██▋       | 48/180 [04:19<11:57,  5.44s/it]\u001b[A\n",
            " 27%|██▋       | 49/180 [04:24<11:27,  5.25s/it]\u001b[A\n",
            " 28%|██▊       | 50/180 [04:29<11:04,  5.11s/it]\u001b[A\n",
            " 28%|██▊       | 51/180 [04:35<11:31,  5.36s/it]\u001b[A\n",
            " 29%|██▉       | 52/180 [04:40<11:05,  5.20s/it]\u001b[A\n",
            " 29%|██▉       | 53/180 [04:45<11:23,  5.38s/it]\u001b[A\n",
            " 30%|███       | 54/180 [04:51<11:27,  5.45s/it]\u001b[A\n",
            " 31%|███       | 55/180 [04:56<10:56,  5.25s/it]\u001b[A\n",
            " 31%|███       | 56/180 [05:02<11:18,  5.47s/it]\u001b[A\n",
            " 32%|███▏      | 57/180 [05:07<10:47,  5.27s/it]\u001b[A\n",
            " 32%|███▏      | 58/180 [05:12<11:03,  5.44s/it]\u001b[A\n",
            " 33%|███▎      | 59/180 [05:17<10:40,  5.29s/it]\u001b[A\n",
            " 33%|███▎      | 60/180 [05:22<10:17,  5.15s/it]\u001b[A\n",
            " 34%|███▍      | 61/180 [05:28<10:42,  5.40s/it]\u001b[A\n",
            " 34%|███▍      | 62/180 [05:33<10:17,  5.23s/it]\u001b[A\n",
            " 35%|███▌      | 63/180 [05:39<10:22,  5.32s/it]\u001b[A\n",
            " 36%|███▌      | 64/180 [05:44<10:14,  5.30s/it]\u001b[A\n",
            " 36%|███▌      | 65/180 [05:49<09:51,  5.15s/it]\u001b[A\n",
            " 37%|███▋      | 66/180 [05:55<10:15,  5.40s/it]\u001b[A\n",
            " 37%|███▋      | 67/180 [05:59<09:50,  5.22s/it]\u001b[A\n",
            " 38%|███▊      | 68/180 [06:05<09:46,  5.24s/it]\u001b[A\n",
            " 38%|███▊      | 69/180 [06:10<09:49,  5.31s/it]\u001b[A\n",
            " 39%|███▉      | 70/180 [06:15<09:27,  5.16s/it]\u001b[A\n",
            " 39%|███▉      | 71/180 [06:21<09:51,  5.42s/it]\u001b[A\n",
            " 40%|████      | 72/180 [06:26<09:25,  5.24s/it]\u001b[A\n",
            " 41%|████      | 73/180 [06:31<09:13,  5.17s/it]\u001b[A\n",
            " 41%|████      | 74/180 [06:36<09:25,  5.33s/it]\u001b[A\n",
            " 42%|████▏     | 75/180 [06:41<09:03,  5.18s/it]\u001b[A\n",
            " 42%|████▏     | 76/180 [06:47<09:24,  5.43s/it]\u001b[A\n",
            " 43%|████▎     | 77/180 [06:52<08:59,  5.24s/it]\u001b[A\n",
            " 43%|████▎     | 78/180 [06:57<08:41,  5.12s/it]\u001b[A\n",
            " 44%|████▍     | 79/180 [07:03<09:09,  5.44s/it]\u001b[A\n",
            " 44%|████▍     | 80/180 [07:08<08:45,  5.26s/it]\u001b[A\n",
            " 45%|████▌     | 81/180 [07:14<09:02,  5.48s/it]\u001b[A\n",
            " 46%|████▌     | 82/180 [07:19<08:38,  5.29s/it]\u001b[A\n",
            " 46%|████▌     | 83/180 [07:24<08:20,  5.16s/it]\u001b[A\n",
            " 47%|████▋     | 84/180 [07:30<08:38,  5.40s/it]\u001b[A\n",
            " 47%|████▋     | 85/180 [07:34<08:15,  5.22s/it]\u001b[A\n",
            " 48%|████▊     | 86/180 [07:40<08:28,  5.41s/it]\u001b[A\n",
            " 48%|████▊     | 87/180 [07:45<08:11,  5.28s/it]\u001b[A\n",
            " 49%|████▉     | 88/180 [07:50<07:52,  5.14s/it]\u001b[A\n",
            " 49%|████▉     | 89/180 [07:56<08:11,  5.40s/it]\u001b[A\n",
            " 50%|█████     | 90/180 [08:01<07:51,  5.23s/it]\u001b[A\n",
            " 51%|█████     | 91/180 [08:07<07:57,  5.36s/it]\u001b[A\n",
            " 51%|█████     | 92/180 [08:12<07:47,  5.31s/it]\u001b[A\n",
            " 52%|█████▏    | 93/180 [08:17<07:29,  5.16s/it]\u001b[A\n",
            " 52%|█████▏    | 94/180 [08:23<07:45,  5.41s/it]\u001b[A\n",
            " 53%|█████▎    | 95/180 [08:28<07:42,  5.44s/it]\u001b[A\n",
            " 53%|█████▎    | 96/180 [08:35<08:16,  5.91s/it]\u001b[A\n",
            " 54%|█████▍    | 97/180 [08:40<07:43,  5.58s/it]\u001b[A\n",
            " 54%|█████▍    | 98/180 [08:45<07:22,  5.40s/it]\u001b[A\n",
            " 55%|█████▌    | 99/180 [08:51<07:27,  5.53s/it]\u001b[A\n",
            " 56%|█████▌    | 100/180 [08:55<07:03,  5.30s/it]\u001b[A\n",
            " 56%|█████▌    | 101/180 [09:02<07:16,  5.52s/it]\u001b[A\n",
            " 57%|█████▋    | 102/180 [09:06<06:53,  5.30s/it]\u001b[A\n",
            " 57%|█████▋    | 103/180 [09:11<06:36,  5.15s/it]\u001b[A\n",
            " 58%|█████▊    | 104/180 [09:17<06:49,  5.39s/it]\u001b[A\n",
            " 58%|█████▊    | 105/180 [09:22<06:31,  5.22s/it]\u001b[A\n",
            " 59%|█████▉    | 106/180 [09:28<06:38,  5.39s/it]\u001b[A\n",
            " 59%|█████▉    | 107/180 [09:33<06:25,  5.28s/it]\u001b[A\n",
            " 60%|██████    | 108/180 [09:38<06:10,  5.14s/it]\u001b[A\n",
            " 61%|██████    | 109/180 [09:44<06:23,  5.40s/it]\u001b[A\n",
            " 61%|██████    | 110/180 [09:48<06:05,  5.23s/it]\u001b[A\n",
            " 62%|██████▏   | 111/180 [09:54<06:06,  5.31s/it]\u001b[A\n",
            " 62%|██████▏   | 112/180 [09:59<06:00,  5.30s/it]\u001b[A\n",
            " 63%|██████▎   | 113/180 [10:04<05:45,  5.15s/it]\u001b[A\n",
            " 63%|██████▎   | 114/180 [10:10<05:56,  5.40s/it]\u001b[A\n",
            " 64%|██████▍   | 115/180 [10:15<05:39,  5.23s/it]\u001b[A\n",
            " 64%|██████▍   | 116/180 [10:20<05:34,  5.22s/it]\u001b[A\n",
            " 65%|██████▌   | 117/180 [10:26<05:35,  5.32s/it]\u001b[A\n",
            " 66%|██████▌   | 118/180 [10:30<05:20,  5.16s/it]\u001b[A\n",
            " 66%|██████▌   | 119/180 [10:36<05:30,  5.42s/it]\u001b[A\n",
            " 67%|██████▋   | 120/180 [10:41<05:14,  5.24s/it]\u001b[A\n",
            " 67%|██████▋   | 121/180 [10:46<05:04,  5.16s/it]\u001b[A\n",
            " 68%|██████▊   | 122/180 [10:52<05:10,  5.35s/it]\u001b[A\n",
            " 68%|██████▊   | 123/180 [10:57<04:55,  5.19s/it]\u001b[A\n",
            " 69%|██████▉   | 124/180 [11:03<05:04,  5.44s/it]\u001b[A\n",
            " 69%|██████▉   | 125/180 [11:08<04:48,  5.25s/it]\u001b[A\n",
            " 70%|███████   | 126/180 [11:12<04:36,  5.12s/it]\u001b[A\n",
            " 71%|███████   | 127/180 [11:18<04:44,  5.38s/it]\u001b[A\n",
            " 71%|███████   | 128/180 [11:23<04:30,  5.21s/it]\u001b[A\n",
            " 72%|███████▏  | 129/180 [11:29<04:35,  5.40s/it]\u001b[A\n",
            " 72%|███████▏  | 130/180 [11:34<04:23,  5.27s/it]\u001b[A\n",
            " 73%|███████▎  | 131/180 [11:39<04:11,  5.13s/it]\u001b[A\n",
            " 73%|███████▎  | 132/180 [11:45<04:18,  5.39s/it]\u001b[A\n",
            " 74%|███████▍  | 133/180 [11:50<04:05,  5.22s/it]\u001b[A\n",
            " 74%|███████▍  | 134/180 [11:55<04:05,  5.33s/it]\u001b[A\n",
            " 75%|███████▌  | 135/180 [12:00<03:57,  5.28s/it]\u001b[A\n",
            " 76%|███████▌  | 136/180 [12:05<03:46,  5.14s/it]\u001b[A\n",
            " 76%|███████▌  | 137/180 [12:11<03:52,  5.40s/it]\u001b[A\n",
            " 77%|███████▋  | 138/180 [12:16<03:39,  5.23s/it]\u001b[A\n",
            " 77%|███████▋  | 139/180 [12:21<03:35,  5.26s/it]\u001b[A\n",
            " 78%|███████▊  | 140/180 [12:27<03:32,  5.31s/it]\u001b[A\n",
            " 78%|███████▊  | 141/180 [12:32<03:21,  5.16s/it]\u001b[A\n",
            " 79%|███████▉  | 142/180 [12:38<03:25,  5.41s/it]\u001b[A\n",
            " 79%|███████▉  | 143/180 [12:42<03:14,  5.25s/it]\u001b[A\n",
            " 80%|████████  | 144/180 [12:48<03:08,  5.24s/it]\u001b[A\n",
            " 81%|████████  | 145/180 [12:53<03:07,  5.35s/it]\u001b[A\n",
            " 81%|████████  | 146/180 [12:58<02:56,  5.19s/it]\u001b[A\n",
            " 82%|████████▏ | 147/180 [13:04<02:59,  5.44s/it]\u001b[A\n",
            " 82%|████████▏ | 148/180 [13:09<02:47,  5.25s/it]\u001b[A\n",
            " 83%|████████▎ | 149/180 [13:14<02:39,  5.14s/it]\u001b[A\n",
            " 83%|████████▎ | 150/180 [13:20<02:40,  5.36s/it]\u001b[A\n",
            " 84%|████████▍ | 151/180 [13:25<02:30,  5.20s/it]\u001b[A\n",
            " 84%|████████▍ | 152/180 [13:31<02:32,  5.45s/it]\u001b[A\n",
            " 85%|████████▌ | 153/180 [13:35<02:22,  5.27s/it]\u001b[A\n",
            " 86%|████████▌ | 154/180 [13:40<02:13,  5.14s/it]\u001b[A\n",
            " 86%|████████▌ | 155/180 [13:46<02:14,  5.39s/it]\u001b[A\n",
            " 87%|████████▋ | 156/180 [13:51<02:04,  5.21s/it]\u001b[A\n",
            " 87%|████████▋ | 157/180 [13:57<02:04,  5.40s/it]\u001b[A\n",
            " 88%|████████▊ | 158/180 [14:02<01:55,  5.27s/it]\u001b[A\n",
            " 88%|████████▊ | 159/180 [14:08<01:59,  5.68s/it]\u001b[A\n",
            " 89%|████████▉ | 160/180 [14:14<01:54,  5.72s/it]\u001b[A\n",
            " 89%|████████▉ | 161/180 [14:19<01:43,  5.45s/it]\u001b[A\n",
            " 90%|█████████ | 162/180 [14:25<01:41,  5.63s/it]\u001b[A\n",
            " 91%|█████████ | 163/180 [14:30<01:31,  5.38s/it]\u001b[A\n",
            " 91%|█████████ | 164/180 [14:35<01:23,  5.20s/it]\u001b[A\n",
            " 92%|█████████▏| 165/180 [14:41<01:21,  5.43s/it]\u001b[A\n",
            " 92%|█████████▏| 166/180 [14:45<01:13,  5.25s/it]\u001b[A\n",
            " 93%|█████████▎| 167/180 [14:51<01:10,  5.43s/it]\u001b[A\n",
            " 93%|█████████▎| 168/180 [14:56<01:03,  5.28s/it]\u001b[A\n",
            " 94%|█████████▍| 169/180 [15:01<00:56,  5.14s/it]\u001b[A\n",
            " 94%|█████████▍| 170/180 [15:07<00:53,  5.40s/it]\u001b[A\n",
            " 95%|█████████▌| 171/180 [15:12<00:46,  5.22s/it]\u001b[A\n",
            " 96%|█████████▌| 172/180 [15:18<00:42,  5.34s/it]\u001b[A\n",
            " 96%|█████████▌| 173/180 [15:23<00:37,  5.30s/it]\u001b[A\n",
            " 97%|█████████▋| 174/180 [15:28<00:30,  5.15s/it]\u001b[A\n",
            " 97%|█████████▋| 175/180 [15:33<00:27,  5.40s/it]\u001b[A\n",
            " 98%|█████████▊| 176/180 [15:38<00:20,  5.23s/it]\u001b[A\n",
            " 98%|█████████▊| 177/180 [15:44<00:15,  5.28s/it]\u001b[A\n",
            " 99%|█████████▉| 178/180 [15:49<00:10,  5.31s/it]\u001b[A\n",
            " 99%|█████████▉| 179/180 [15:54<00:05,  5.16s/it]\u001b[A\n",
            "100%|██████████| 180/180 [15:54<00:00,  5.30s/it]\n"
          ]
        }
      ],
      "source": [
        "real_activations = calculate_activations(hr_data, verbose=True)\n",
        "real_mu, real_sigma = calculate_activation_statistics(real_activations)\n",
        "\n",
        "assert real_mu.shape == (2048,)\n",
        "assert real_sigma.shape == (2048, 2048)"
      ]
    },
    {
      "cell_type": "code",
      "execution_count": 45,
      "metadata": {
        "id": "JYG7z9qSWcyA"
      },
      "outputs": [],
      "source": [
        "import scipy\n",
        "\n",
        "\n",
        "def calculate_frechet_distance(mu1, sigma1, mu2, sigma2, eps=1e-6):\n",
        "    assert mu1.shape == mu2.shape\n",
        "    assert sigma1.shape == sigma2.shape\n",
        "\n",
        "    sigma1_sigma2 = scipy.linalg.sqrtm(np.dot(sigma1, sigma2))\n",
        "\n",
        "    # Numerical error might give slight imaginary component\n",
        "    if np.iscomplexobj(sigma1_sigma2):\n",
        "        sigma1_sigma2 = sigma1_sigma2.real\n",
        "\n",
        "    # Product might be almost singular\n",
        "    if not np.isfinite(sigma1_sigma2).all():\n",
        "        offset = np.eye(sigma1.shape[0]) * eps\n",
        "        sigma1_sigma2 = scipy.linalg.sqrtm(np.dot(sigma1 + offset, sigma2 + offset))\n",
        "\n",
        "    diff = mu1 - mu2\n",
        "\n",
        "    # use diff, sigma1, sigma2 to calculate FID according to the formula above\n",
        "    # TODO: implement score from paper\n",
        "    return (diff ** 2).sum() + torch.trace(sigma1 + sigma2 - 2 * sigma1_sigma2)\n",
        "\n",
        "\n",
        "def calculate_fid_score(real_data, fake_data, verbose=False):\n",
        "    # Run inception on real and fake data to obtain activations\n",
        "    # TODO\n",
        "    real_activations = calculate_activations(real_data)\n",
        "    fake_activations = calculate_activations(fake_data)\n",
        "\n",
        "    # Calculate mu and sigma for both real and fake activations\n",
        "    # TODO\n",
        "    real_mu, real_sigma = calculate_activation_statistics(real_activations)\n",
        "    fake_mu, fake_sigma = calculate_activation_statistics(fake_activations)\n",
        "\n",
        "    # Calculate Frechet distance\n",
        "    return calculate_frechet_distance(\n",
        "        real_mu,\n",
        "        real_sigma,\n",
        "        fake_mu,\n",
        "        fake_sigma,\n",
        "    )"
      ]
    },
    {
      "cell_type": "markdown",
      "metadata": {
        "id": "VQjxyGZLewHo"
      },
      "source": [
        "Calculate FID score between `hr_data` and `sr_fake_data_from_real_hr`:"
      ]
    },
    {
      "cell_type": "code",
      "execution_count": 46,
      "metadata": {
        "id": "VvHBjRgOeuCx",
        "colab": {
          "base_uri": "https://localhost:8080/",
          "height": 250
        },
        "outputId": "e3ac3322-58ac-49ce-ef36-729a2a3aecf8"
      },
      "outputs": [
        {
          "output_type": "error",
          "ename": "NameError",
          "evalue": "ignored",
          "traceback": [
            "\u001b[0;31m---------------------------------------------------------------------------\u001b[0m",
            "\u001b[0;31mNameError\u001b[0m                                 Traceback (most recent call last)",
            "\u001b[0;32m<ipython-input-46-db548cca22a2>\u001b[0m in \u001b[0;36m<cell line: 1>\u001b[0;34m()\u001b[0m\n\u001b[1;32m      1\u001b[0m score = calculate_fid_score(\n\u001b[1;32m      2\u001b[0m     \u001b[0mhr_data\u001b[0m\u001b[0;34m,\u001b[0m\u001b[0;34m\u001b[0m\u001b[0;34m\u001b[0m\u001b[0m\n\u001b[0;32m----> 3\u001b[0;31m     \u001b[0msr_fake_data_from_real_lr\u001b[0m\u001b[0;34m,\u001b[0m\u001b[0;34m\u001b[0m\u001b[0;34m\u001b[0m\u001b[0m\n\u001b[0m\u001b[1;32m      4\u001b[0m )\n\u001b[1;32m      5\u001b[0m \u001b[0mprint\u001b[0m\u001b[0;34m(\u001b[0m\u001b[0;34m\"Score:\"\u001b[0m\u001b[0;34m,\u001b[0m \u001b[0mscore\u001b[0m\u001b[0;34m)\u001b[0m\u001b[0;34m\u001b[0m\u001b[0;34m\u001b[0m\u001b[0m\n",
            "\u001b[0;31mNameError\u001b[0m: name 'sr_fake_data_from_real_lr' is not defined"
          ]
        }
      ],
      "source": [
        "score = calculate_fid_score(\n",
        "    hr_data,\n",
        "    sr_fake_data_from_real_lr,\n",
        ")\n",
        "print(\"Score:\", score)"
      ]
    },
    {
      "cell_type": "markdown",
      "metadata": {
        "id": "uHYWDEwZeyT9"
      },
      "source": [
        "Putting it all together: calculate FID score between `hr_data` and `sr_fake_data_from_fake_hr`:"
      ]
    },
    {
      "cell_type": "code",
      "execution_count": null,
      "metadata": {
        "id": "lgyhdAyoezVL"
      },
      "outputs": [],
      "source": [
        "score = calculate_fid_score(\n",
        "    hr_data,\n",
        "    sr_fake_data_from_fake_lr,\n",
        ")\n",
        "print(\"Score:\", score)"
      ]
    }
  ],
  "metadata": {
    "accelerator": "GPU",
    "colab": {
      "provenance": []
    },
    "kernelspec": {
      "display_name": "Python 3",
      "language": "python",
      "name": "python3"
    },
    "language_info": {
      "codemirror_mode": {
        "name": "ipython",
        "version": 3
      },
      "file_extension": ".py",
      "mimetype": "text/x-python",
      "name": "python",
      "nbconvert_exporter": "python",
      "pygments_lexer": "ipython3",
      "version": "3.9.18"
    },
    "widgets": {
      "application/vnd.jupyter.widget-state+json": {
        "d02b041859b542a0a201253ba5c288f0": {
          "model_module": "@jupyter-widgets/controls",
          "model_name": "HBoxModel",
          "model_module_version": "1.5.0",
          "state": {
            "_dom_classes": [],
            "_model_module": "@jupyter-widgets/controls",
            "_model_module_version": "1.5.0",
            "_model_name": "HBoxModel",
            "_view_count": null,
            "_view_module": "@jupyter-widgets/controls",
            "_view_module_version": "1.5.0",
            "_view_name": "HBoxView",
            "box_style": "",
            "children": [
              "IPY_MODEL_d2cc3ece3e4d4d1c8bf507b28a67f2ed",
              "IPY_MODEL_1780c638a5474a57bc2297a5ce0d68a2",
              "IPY_MODEL_39767b3ea5424237af27beec4b8854f0"
            ],
            "layout": "IPY_MODEL_637da67a1ce84bafa350a9f653de2ee0"
          }
        },
        "d2cc3ece3e4d4d1c8bf507b28a67f2ed": {
          "model_module": "@jupyter-widgets/controls",
          "model_name": "HTMLModel",
          "model_module_version": "1.5.0",
          "state": {
            "_dom_classes": [],
            "_model_module": "@jupyter-widgets/controls",
            "_model_module_version": "1.5.0",
            "_model_name": "HTMLModel",
            "_view_count": null,
            "_view_module": "@jupyter-widgets/controls",
            "_view_module_version": "1.5.0",
            "_view_name": "HTMLView",
            "description": "",
            "description_tooltip": null,
            "layout": "IPY_MODEL_d2599e5040c349fca4f4765aa981d9f4",
            "placeholder": "​",
            "style": "IPY_MODEL_2d053bb5df40448fb8eb1a4292e530a3",
            "value": "Epoch 99: 100%"
          }
        },
        "1780c638a5474a57bc2297a5ce0d68a2": {
          "model_module": "@jupyter-widgets/controls",
          "model_name": "FloatProgressModel",
          "model_module_version": "1.5.0",
          "state": {
            "_dom_classes": [],
            "_model_module": "@jupyter-widgets/controls",
            "_model_module_version": "1.5.0",
            "_model_name": "FloatProgressModel",
            "_view_count": null,
            "_view_module": "@jupyter-widgets/controls",
            "_view_module_version": "1.5.0",
            "_view_name": "ProgressView",
            "bar_style": "success",
            "description": "",
            "description_tooltip": null,
            "layout": "IPY_MODEL_a4dce158ed5445fea584e99078528e90",
            "max": 45,
            "min": 0,
            "orientation": "horizontal",
            "style": "IPY_MODEL_8449f0457ef34540bd33360b0ba94b23",
            "value": 45
          }
        },
        "39767b3ea5424237af27beec4b8854f0": {
          "model_module": "@jupyter-widgets/controls",
          "model_name": "HTMLModel",
          "model_module_version": "1.5.0",
          "state": {
            "_dom_classes": [],
            "_model_module": "@jupyter-widgets/controls",
            "_model_module_version": "1.5.0",
            "_model_name": "HTMLModel",
            "_view_count": null,
            "_view_module": "@jupyter-widgets/controls",
            "_view_module_version": "1.5.0",
            "_view_name": "HTMLView",
            "description": "",
            "description_tooltip": null,
            "layout": "IPY_MODEL_6c046a8e6e5f4d42807add11be97e506",
            "placeholder": "​",
            "style": "IPY_MODEL_3bcd2a1ed7f44ee895444638c10d3657",
            "value": " 45/45 [00:07&lt;00:00,  6.13it/s, v_num=0, g_loss=0.718, d_loss=0.677]"
          }
        },
        "637da67a1ce84bafa350a9f653de2ee0": {
          "model_module": "@jupyter-widgets/base",
          "model_name": "LayoutModel",
          "model_module_version": "1.2.0",
          "state": {
            "_model_module": "@jupyter-widgets/base",
            "_model_module_version": "1.2.0",
            "_model_name": "LayoutModel",
            "_view_count": null,
            "_view_module": "@jupyter-widgets/base",
            "_view_module_version": "1.2.0",
            "_view_name": "LayoutView",
            "align_content": null,
            "align_items": null,
            "align_self": null,
            "border": null,
            "bottom": null,
            "display": "inline-flex",
            "flex": null,
            "flex_flow": "row wrap",
            "grid_area": null,
            "grid_auto_columns": null,
            "grid_auto_flow": null,
            "grid_auto_rows": null,
            "grid_column": null,
            "grid_gap": null,
            "grid_row": null,
            "grid_template_areas": null,
            "grid_template_columns": null,
            "grid_template_rows": null,
            "height": null,
            "justify_content": null,
            "justify_items": null,
            "left": null,
            "margin": null,
            "max_height": null,
            "max_width": null,
            "min_height": null,
            "min_width": null,
            "object_fit": null,
            "object_position": null,
            "order": null,
            "overflow": null,
            "overflow_x": null,
            "overflow_y": null,
            "padding": null,
            "right": null,
            "top": null,
            "visibility": null,
            "width": "100%"
          }
        },
        "d2599e5040c349fca4f4765aa981d9f4": {
          "model_module": "@jupyter-widgets/base",
          "model_name": "LayoutModel",
          "model_module_version": "1.2.0",
          "state": {
            "_model_module": "@jupyter-widgets/base",
            "_model_module_version": "1.2.0",
            "_model_name": "LayoutModel",
            "_view_count": null,
            "_view_module": "@jupyter-widgets/base",
            "_view_module_version": "1.2.0",
            "_view_name": "LayoutView",
            "align_content": null,
            "align_items": null,
            "align_self": null,
            "border": null,
            "bottom": null,
            "display": null,
            "flex": null,
            "flex_flow": null,
            "grid_area": null,
            "grid_auto_columns": null,
            "grid_auto_flow": null,
            "grid_auto_rows": null,
            "grid_column": null,
            "grid_gap": null,
            "grid_row": null,
            "grid_template_areas": null,
            "grid_template_columns": null,
            "grid_template_rows": null,
            "height": null,
            "justify_content": null,
            "justify_items": null,
            "left": null,
            "margin": null,
            "max_height": null,
            "max_width": null,
            "min_height": null,
            "min_width": null,
            "object_fit": null,
            "object_position": null,
            "order": null,
            "overflow": null,
            "overflow_x": null,
            "overflow_y": null,
            "padding": null,
            "right": null,
            "top": null,
            "visibility": null,
            "width": null
          }
        },
        "2d053bb5df40448fb8eb1a4292e530a3": {
          "model_module": "@jupyter-widgets/controls",
          "model_name": "DescriptionStyleModel",
          "model_module_version": "1.5.0",
          "state": {
            "_model_module": "@jupyter-widgets/controls",
            "_model_module_version": "1.5.0",
            "_model_name": "DescriptionStyleModel",
            "_view_count": null,
            "_view_module": "@jupyter-widgets/base",
            "_view_module_version": "1.2.0",
            "_view_name": "StyleView",
            "description_width": ""
          }
        },
        "a4dce158ed5445fea584e99078528e90": {
          "model_module": "@jupyter-widgets/base",
          "model_name": "LayoutModel",
          "model_module_version": "1.2.0",
          "state": {
            "_model_module": "@jupyter-widgets/base",
            "_model_module_version": "1.2.0",
            "_model_name": "LayoutModel",
            "_view_count": null,
            "_view_module": "@jupyter-widgets/base",
            "_view_module_version": "1.2.0",
            "_view_name": "LayoutView",
            "align_content": null,
            "align_items": null,
            "align_self": null,
            "border": null,
            "bottom": null,
            "display": null,
            "flex": "2",
            "flex_flow": null,
            "grid_area": null,
            "grid_auto_columns": null,
            "grid_auto_flow": null,
            "grid_auto_rows": null,
            "grid_column": null,
            "grid_gap": null,
            "grid_row": null,
            "grid_template_areas": null,
            "grid_template_columns": null,
            "grid_template_rows": null,
            "height": null,
            "justify_content": null,
            "justify_items": null,
            "left": null,
            "margin": null,
            "max_height": null,
            "max_width": null,
            "min_height": null,
            "min_width": null,
            "object_fit": null,
            "object_position": null,
            "order": null,
            "overflow": null,
            "overflow_x": null,
            "overflow_y": null,
            "padding": null,
            "right": null,
            "top": null,
            "visibility": null,
            "width": null
          }
        },
        "8449f0457ef34540bd33360b0ba94b23": {
          "model_module": "@jupyter-widgets/controls",
          "model_name": "ProgressStyleModel",
          "model_module_version": "1.5.0",
          "state": {
            "_model_module": "@jupyter-widgets/controls",
            "_model_module_version": "1.5.0",
            "_model_name": "ProgressStyleModel",
            "_view_count": null,
            "_view_module": "@jupyter-widgets/base",
            "_view_module_version": "1.2.0",
            "_view_name": "StyleView",
            "bar_color": null,
            "description_width": ""
          }
        },
        "6c046a8e6e5f4d42807add11be97e506": {
          "model_module": "@jupyter-widgets/base",
          "model_name": "LayoutModel",
          "model_module_version": "1.2.0",
          "state": {
            "_model_module": "@jupyter-widgets/base",
            "_model_module_version": "1.2.0",
            "_model_name": "LayoutModel",
            "_view_count": null,
            "_view_module": "@jupyter-widgets/base",
            "_view_module_version": "1.2.0",
            "_view_name": "LayoutView",
            "align_content": null,
            "align_items": null,
            "align_self": null,
            "border": null,
            "bottom": null,
            "display": null,
            "flex": null,
            "flex_flow": null,
            "grid_area": null,
            "grid_auto_columns": null,
            "grid_auto_flow": null,
            "grid_auto_rows": null,
            "grid_column": null,
            "grid_gap": null,
            "grid_row": null,
            "grid_template_areas": null,
            "grid_template_columns": null,
            "grid_template_rows": null,
            "height": null,
            "justify_content": null,
            "justify_items": null,
            "left": null,
            "margin": null,
            "max_height": null,
            "max_width": null,
            "min_height": null,
            "min_width": null,
            "object_fit": null,
            "object_position": null,
            "order": null,
            "overflow": null,
            "overflow_x": null,
            "overflow_y": null,
            "padding": null,
            "right": null,
            "top": null,
            "visibility": null,
            "width": null
          }
        },
        "3bcd2a1ed7f44ee895444638c10d3657": {
          "model_module": "@jupyter-widgets/controls",
          "model_name": "DescriptionStyleModel",
          "model_module_version": "1.5.0",
          "state": {
            "_model_module": "@jupyter-widgets/controls",
            "_model_module_version": "1.5.0",
            "_model_name": "DescriptionStyleModel",
            "_view_count": null,
            "_view_module": "@jupyter-widgets/base",
            "_view_module_version": "1.2.0",
            "_view_name": "StyleView",
            "description_width": ""
          }
        },
        "3e87314b6b0649178e0d86c0f937d06f": {
          "model_module": "@jupyter-widgets/controls",
          "model_name": "HBoxModel",
          "model_module_version": "1.5.0",
          "state": {
            "_dom_classes": [],
            "_model_module": "@jupyter-widgets/controls",
            "_model_module_version": "1.5.0",
            "_model_name": "HBoxModel",
            "_view_count": null,
            "_view_module": "@jupyter-widgets/controls",
            "_view_module_version": "1.5.0",
            "_view_name": "HBoxView",
            "box_style": "",
            "children": [
              "IPY_MODEL_5609056b18ea48619bb458260dc78cd3",
              "IPY_MODEL_247b1df32956424e92128095794e362f",
              "IPY_MODEL_c5452438a30546f5a2751bf87873d442"
            ],
            "layout": "IPY_MODEL_ad5a5d1e422a485d8a47328b761b4c4b"
          }
        },
        "5609056b18ea48619bb458260dc78cd3": {
          "model_module": "@jupyter-widgets/controls",
          "model_name": "HTMLModel",
          "model_module_version": "1.5.0",
          "state": {
            "_dom_classes": [],
            "_model_module": "@jupyter-widgets/controls",
            "_model_module_version": "1.5.0",
            "_model_name": "HTMLModel",
            "_view_count": null,
            "_view_module": "@jupyter-widgets/controls",
            "_view_module_version": "1.5.0",
            "_view_name": "HTMLView",
            "description": "",
            "description_tooltip": null,
            "layout": "IPY_MODEL_8b588abe39bf4feb8336d070e0073f7d",
            "placeholder": "​",
            "style": "IPY_MODEL_0b825b07fcbd4408b8c9f5c4a54be88a",
            "value": "Epoch 99: 100%"
          }
        },
        "247b1df32956424e92128095794e362f": {
          "model_module": "@jupyter-widgets/controls",
          "model_name": "FloatProgressModel",
          "model_module_version": "1.5.0",
          "state": {
            "_dom_classes": [],
            "_model_module": "@jupyter-widgets/controls",
            "_model_module_version": "1.5.0",
            "_model_name": "FloatProgressModel",
            "_view_count": null,
            "_view_module": "@jupyter-widgets/controls",
            "_view_module_version": "1.5.0",
            "_view_name": "ProgressView",
            "bar_style": "success",
            "description": "",
            "description_tooltip": null,
            "layout": "IPY_MODEL_7ad418d9193348849ee9115f90be2d30",
            "max": 45,
            "min": 0,
            "orientation": "horizontal",
            "style": "IPY_MODEL_a8c8c3bada0641208e4f0e4ae8f1079b",
            "value": 45
          }
        },
        "c5452438a30546f5a2751bf87873d442": {
          "model_module": "@jupyter-widgets/controls",
          "model_name": "HTMLModel",
          "model_module_version": "1.5.0",
          "state": {
            "_dom_classes": [],
            "_model_module": "@jupyter-widgets/controls",
            "_model_module_version": "1.5.0",
            "_model_name": "HTMLModel",
            "_view_count": null,
            "_view_module": "@jupyter-widgets/controls",
            "_view_module_version": "1.5.0",
            "_view_name": "HTMLView",
            "description": "",
            "description_tooltip": null,
            "layout": "IPY_MODEL_21744ce912364bb0b0cfeda164aa213b",
            "placeholder": "​",
            "style": "IPY_MODEL_077baae41d814d38bbb359b1b74ab0cf",
            "value": " 45/45 [00:09&lt;00:00,  4.79it/s, v_num=2, g_loss=84.10, d_loss=17.40]"
          }
        },
        "ad5a5d1e422a485d8a47328b761b4c4b": {
          "model_module": "@jupyter-widgets/base",
          "model_name": "LayoutModel",
          "model_module_version": "1.2.0",
          "state": {
            "_model_module": "@jupyter-widgets/base",
            "_model_module_version": "1.2.0",
            "_model_name": "LayoutModel",
            "_view_count": null,
            "_view_module": "@jupyter-widgets/base",
            "_view_module_version": "1.2.0",
            "_view_name": "LayoutView",
            "align_content": null,
            "align_items": null,
            "align_self": null,
            "border": null,
            "bottom": null,
            "display": "inline-flex",
            "flex": null,
            "flex_flow": "row wrap",
            "grid_area": null,
            "grid_auto_columns": null,
            "grid_auto_flow": null,
            "grid_auto_rows": null,
            "grid_column": null,
            "grid_gap": null,
            "grid_row": null,
            "grid_template_areas": null,
            "grid_template_columns": null,
            "grid_template_rows": null,
            "height": null,
            "justify_content": null,
            "justify_items": null,
            "left": null,
            "margin": null,
            "max_height": null,
            "max_width": null,
            "min_height": null,
            "min_width": null,
            "object_fit": null,
            "object_position": null,
            "order": null,
            "overflow": null,
            "overflow_x": null,
            "overflow_y": null,
            "padding": null,
            "right": null,
            "top": null,
            "visibility": null,
            "width": "100%"
          }
        },
        "8b588abe39bf4feb8336d070e0073f7d": {
          "model_module": "@jupyter-widgets/base",
          "model_name": "LayoutModel",
          "model_module_version": "1.2.0",
          "state": {
            "_model_module": "@jupyter-widgets/base",
            "_model_module_version": "1.2.0",
            "_model_name": "LayoutModel",
            "_view_count": null,
            "_view_module": "@jupyter-widgets/base",
            "_view_module_version": "1.2.0",
            "_view_name": "LayoutView",
            "align_content": null,
            "align_items": null,
            "align_self": null,
            "border": null,
            "bottom": null,
            "display": null,
            "flex": null,
            "flex_flow": null,
            "grid_area": null,
            "grid_auto_columns": null,
            "grid_auto_flow": null,
            "grid_auto_rows": null,
            "grid_column": null,
            "grid_gap": null,
            "grid_row": null,
            "grid_template_areas": null,
            "grid_template_columns": null,
            "grid_template_rows": null,
            "height": null,
            "justify_content": null,
            "justify_items": null,
            "left": null,
            "margin": null,
            "max_height": null,
            "max_width": null,
            "min_height": null,
            "min_width": null,
            "object_fit": null,
            "object_position": null,
            "order": null,
            "overflow": null,
            "overflow_x": null,
            "overflow_y": null,
            "padding": null,
            "right": null,
            "top": null,
            "visibility": null,
            "width": null
          }
        },
        "0b825b07fcbd4408b8c9f5c4a54be88a": {
          "model_module": "@jupyter-widgets/controls",
          "model_name": "DescriptionStyleModel",
          "model_module_version": "1.5.0",
          "state": {
            "_model_module": "@jupyter-widgets/controls",
            "_model_module_version": "1.5.0",
            "_model_name": "DescriptionStyleModel",
            "_view_count": null,
            "_view_module": "@jupyter-widgets/base",
            "_view_module_version": "1.2.0",
            "_view_name": "StyleView",
            "description_width": ""
          }
        },
        "7ad418d9193348849ee9115f90be2d30": {
          "model_module": "@jupyter-widgets/base",
          "model_name": "LayoutModel",
          "model_module_version": "1.2.0",
          "state": {
            "_model_module": "@jupyter-widgets/base",
            "_model_module_version": "1.2.0",
            "_model_name": "LayoutModel",
            "_view_count": null,
            "_view_module": "@jupyter-widgets/base",
            "_view_module_version": "1.2.0",
            "_view_name": "LayoutView",
            "align_content": null,
            "align_items": null,
            "align_self": null,
            "border": null,
            "bottom": null,
            "display": null,
            "flex": "2",
            "flex_flow": null,
            "grid_area": null,
            "grid_auto_columns": null,
            "grid_auto_flow": null,
            "grid_auto_rows": null,
            "grid_column": null,
            "grid_gap": null,
            "grid_row": null,
            "grid_template_areas": null,
            "grid_template_columns": null,
            "grid_template_rows": null,
            "height": null,
            "justify_content": null,
            "justify_items": null,
            "left": null,
            "margin": null,
            "max_height": null,
            "max_width": null,
            "min_height": null,
            "min_width": null,
            "object_fit": null,
            "object_position": null,
            "order": null,
            "overflow": null,
            "overflow_x": null,
            "overflow_y": null,
            "padding": null,
            "right": null,
            "top": null,
            "visibility": null,
            "width": null
          }
        },
        "a8c8c3bada0641208e4f0e4ae8f1079b": {
          "model_module": "@jupyter-widgets/controls",
          "model_name": "ProgressStyleModel",
          "model_module_version": "1.5.0",
          "state": {
            "_model_module": "@jupyter-widgets/controls",
            "_model_module_version": "1.5.0",
            "_model_name": "ProgressStyleModel",
            "_view_count": null,
            "_view_module": "@jupyter-widgets/base",
            "_view_module_version": "1.2.0",
            "_view_name": "StyleView",
            "bar_color": null,
            "description_width": ""
          }
        },
        "21744ce912364bb0b0cfeda164aa213b": {
          "model_module": "@jupyter-widgets/base",
          "model_name": "LayoutModel",
          "model_module_version": "1.2.0",
          "state": {
            "_model_module": "@jupyter-widgets/base",
            "_model_module_version": "1.2.0",
            "_model_name": "LayoutModel",
            "_view_count": null,
            "_view_module": "@jupyter-widgets/base",
            "_view_module_version": "1.2.0",
            "_view_name": "LayoutView",
            "align_content": null,
            "align_items": null,
            "align_self": null,
            "border": null,
            "bottom": null,
            "display": null,
            "flex": null,
            "flex_flow": null,
            "grid_area": null,
            "grid_auto_columns": null,
            "grid_auto_flow": null,
            "grid_auto_rows": null,
            "grid_column": null,
            "grid_gap": null,
            "grid_row": null,
            "grid_template_areas": null,
            "grid_template_columns": null,
            "grid_template_rows": null,
            "height": null,
            "justify_content": null,
            "justify_items": null,
            "left": null,
            "margin": null,
            "max_height": null,
            "max_width": null,
            "min_height": null,
            "min_width": null,
            "object_fit": null,
            "object_position": null,
            "order": null,
            "overflow": null,
            "overflow_x": null,
            "overflow_y": null,
            "padding": null,
            "right": null,
            "top": null,
            "visibility": null,
            "width": null
          }
        },
        "077baae41d814d38bbb359b1b74ab0cf": {
          "model_module": "@jupyter-widgets/controls",
          "model_name": "DescriptionStyleModel",
          "model_module_version": "1.5.0",
          "state": {
            "_model_module": "@jupyter-widgets/controls",
            "_model_module_version": "1.5.0",
            "_model_name": "DescriptionStyleModel",
            "_view_count": null,
            "_view_module": "@jupyter-widgets/base",
            "_view_module_version": "1.2.0",
            "_view_name": "StyleView",
            "description_width": ""
          }
        },
        "7bd4918558dd4e73ac7a949d0cbcfcc6": {
          "model_module": "@jupyter-widgets/controls",
          "model_name": "HBoxModel",
          "model_module_version": "1.5.0",
          "state": {
            "_dom_classes": [],
            "_model_module": "@jupyter-widgets/controls",
            "_model_module_version": "1.5.0",
            "_model_name": "HBoxModel",
            "_view_count": null,
            "_view_module": "@jupyter-widgets/controls",
            "_view_module_version": "1.5.0",
            "_view_name": "HBoxView",
            "box_style": "",
            "children": [
              "IPY_MODEL_af8e797871c74776a54a01db8edae85a",
              "IPY_MODEL_e8c54554d52e4465bebed61bee50fe92",
              "IPY_MODEL_290ff83ab38343e6a60b135836ea5e00"
            ],
            "layout": "IPY_MODEL_eb677ef98cc94c9bb5b1eeb0bb35b87d"
          }
        },
        "af8e797871c74776a54a01db8edae85a": {
          "model_module": "@jupyter-widgets/controls",
          "model_name": "HTMLModel",
          "model_module_version": "1.5.0",
          "state": {
            "_dom_classes": [],
            "_model_module": "@jupyter-widgets/controls",
            "_model_module_version": "1.5.0",
            "_model_name": "HTMLModel",
            "_view_count": null,
            "_view_module": "@jupyter-widgets/controls",
            "_view_module_version": "1.5.0",
            "_view_name": "HTMLView",
            "description": "",
            "description_tooltip": null,
            "layout": "IPY_MODEL_aaf7f84184d4438fac96d30f2402514d",
            "placeholder": "​",
            "style": "IPY_MODEL_57f28eea51a9479eb97a5d759a39b066",
            "value": "Epoch 0:   0%"
          }
        },
        "e8c54554d52e4465bebed61bee50fe92": {
          "model_module": "@jupyter-widgets/controls",
          "model_name": "FloatProgressModel",
          "model_module_version": "1.5.0",
          "state": {
            "_dom_classes": [],
            "_model_module": "@jupyter-widgets/controls",
            "_model_module_version": "1.5.0",
            "_model_name": "FloatProgressModel",
            "_view_count": null,
            "_view_module": "@jupyter-widgets/controls",
            "_view_module_version": "1.5.0",
            "_view_name": "ProgressView",
            "bar_style": "",
            "description": "",
            "description_tooltip": null,
            "layout": "IPY_MODEL_6b76bff9e5b74dd28b987e77c8b3b86f",
            "max": 359,
            "min": 0,
            "orientation": "horizontal",
            "style": "IPY_MODEL_934d3a3944eb4ecf85d5e8c0a8a300f0",
            "value": 1
          }
        },
        "290ff83ab38343e6a60b135836ea5e00": {
          "model_module": "@jupyter-widgets/controls",
          "model_name": "HTMLModel",
          "model_module_version": "1.5.0",
          "state": {
            "_dom_classes": [],
            "_model_module": "@jupyter-widgets/controls",
            "_model_module_version": "1.5.0",
            "_model_name": "HTMLModel",
            "_view_count": null,
            "_view_module": "@jupyter-widgets/controls",
            "_view_module_version": "1.5.0",
            "_view_name": "HTMLView",
            "description": "",
            "description_tooltip": null,
            "layout": "IPY_MODEL_be8adcc8878448db8582a609290398f8",
            "placeholder": "​",
            "style": "IPY_MODEL_0cfa956654a8481da16d193260c602c7",
            "value": " 1/359 [01:06&lt;6:38:01,  0.01it/s, v_num=0, g_loss=1.150, gan_loss=0.703, mse_loss=0.796, d_loss=0.250]"
          }
        },
        "eb677ef98cc94c9bb5b1eeb0bb35b87d": {
          "model_module": "@jupyter-widgets/base",
          "model_name": "LayoutModel",
          "model_module_version": "1.2.0",
          "state": {
            "_model_module": "@jupyter-widgets/base",
            "_model_module_version": "1.2.0",
            "_model_name": "LayoutModel",
            "_view_count": null,
            "_view_module": "@jupyter-widgets/base",
            "_view_module_version": "1.2.0",
            "_view_name": "LayoutView",
            "align_content": null,
            "align_items": null,
            "align_self": null,
            "border": null,
            "bottom": null,
            "display": "inline-flex",
            "flex": null,
            "flex_flow": "row wrap",
            "grid_area": null,
            "grid_auto_columns": null,
            "grid_auto_flow": null,
            "grid_auto_rows": null,
            "grid_column": null,
            "grid_gap": null,
            "grid_row": null,
            "grid_template_areas": null,
            "grid_template_columns": null,
            "grid_template_rows": null,
            "height": null,
            "justify_content": null,
            "justify_items": null,
            "left": null,
            "margin": null,
            "max_height": null,
            "max_width": null,
            "min_height": null,
            "min_width": null,
            "object_fit": null,
            "object_position": null,
            "order": null,
            "overflow": null,
            "overflow_x": null,
            "overflow_y": null,
            "padding": null,
            "right": null,
            "top": null,
            "visibility": null,
            "width": "100%"
          }
        },
        "aaf7f84184d4438fac96d30f2402514d": {
          "model_module": "@jupyter-widgets/base",
          "model_name": "LayoutModel",
          "model_module_version": "1.2.0",
          "state": {
            "_model_module": "@jupyter-widgets/base",
            "_model_module_version": "1.2.0",
            "_model_name": "LayoutModel",
            "_view_count": null,
            "_view_module": "@jupyter-widgets/base",
            "_view_module_version": "1.2.0",
            "_view_name": "LayoutView",
            "align_content": null,
            "align_items": null,
            "align_self": null,
            "border": null,
            "bottom": null,
            "display": null,
            "flex": null,
            "flex_flow": null,
            "grid_area": null,
            "grid_auto_columns": null,
            "grid_auto_flow": null,
            "grid_auto_rows": null,
            "grid_column": null,
            "grid_gap": null,
            "grid_row": null,
            "grid_template_areas": null,
            "grid_template_columns": null,
            "grid_template_rows": null,
            "height": null,
            "justify_content": null,
            "justify_items": null,
            "left": null,
            "margin": null,
            "max_height": null,
            "max_width": null,
            "min_height": null,
            "min_width": null,
            "object_fit": null,
            "object_position": null,
            "order": null,
            "overflow": null,
            "overflow_x": null,
            "overflow_y": null,
            "padding": null,
            "right": null,
            "top": null,
            "visibility": null,
            "width": null
          }
        },
        "57f28eea51a9479eb97a5d759a39b066": {
          "model_module": "@jupyter-widgets/controls",
          "model_name": "DescriptionStyleModel",
          "model_module_version": "1.5.0",
          "state": {
            "_model_module": "@jupyter-widgets/controls",
            "_model_module_version": "1.5.0",
            "_model_name": "DescriptionStyleModel",
            "_view_count": null,
            "_view_module": "@jupyter-widgets/base",
            "_view_module_version": "1.2.0",
            "_view_name": "StyleView",
            "description_width": ""
          }
        },
        "6b76bff9e5b74dd28b987e77c8b3b86f": {
          "model_module": "@jupyter-widgets/base",
          "model_name": "LayoutModel",
          "model_module_version": "1.2.0",
          "state": {
            "_model_module": "@jupyter-widgets/base",
            "_model_module_version": "1.2.0",
            "_model_name": "LayoutModel",
            "_view_count": null,
            "_view_module": "@jupyter-widgets/base",
            "_view_module_version": "1.2.0",
            "_view_name": "LayoutView",
            "align_content": null,
            "align_items": null,
            "align_self": null,
            "border": null,
            "bottom": null,
            "display": null,
            "flex": "2",
            "flex_flow": null,
            "grid_area": null,
            "grid_auto_columns": null,
            "grid_auto_flow": null,
            "grid_auto_rows": null,
            "grid_column": null,
            "grid_gap": null,
            "grid_row": null,
            "grid_template_areas": null,
            "grid_template_columns": null,
            "grid_template_rows": null,
            "height": null,
            "justify_content": null,
            "justify_items": null,
            "left": null,
            "margin": null,
            "max_height": null,
            "max_width": null,
            "min_height": null,
            "min_width": null,
            "object_fit": null,
            "object_position": null,
            "order": null,
            "overflow": null,
            "overflow_x": null,
            "overflow_y": null,
            "padding": null,
            "right": null,
            "top": null,
            "visibility": null,
            "width": null
          }
        },
        "934d3a3944eb4ecf85d5e8c0a8a300f0": {
          "model_module": "@jupyter-widgets/controls",
          "model_name": "ProgressStyleModel",
          "model_module_version": "1.5.0",
          "state": {
            "_model_module": "@jupyter-widgets/controls",
            "_model_module_version": "1.5.0",
            "_model_name": "ProgressStyleModel",
            "_view_count": null,
            "_view_module": "@jupyter-widgets/base",
            "_view_module_version": "1.2.0",
            "_view_name": "StyleView",
            "bar_color": null,
            "description_width": ""
          }
        },
        "be8adcc8878448db8582a609290398f8": {
          "model_module": "@jupyter-widgets/base",
          "model_name": "LayoutModel",
          "model_module_version": "1.2.0",
          "state": {
            "_model_module": "@jupyter-widgets/base",
            "_model_module_version": "1.2.0",
            "_model_name": "LayoutModel",
            "_view_count": null,
            "_view_module": "@jupyter-widgets/base",
            "_view_module_version": "1.2.0",
            "_view_name": "LayoutView",
            "align_content": null,
            "align_items": null,
            "align_self": null,
            "border": null,
            "bottom": null,
            "display": null,
            "flex": null,
            "flex_flow": null,
            "grid_area": null,
            "grid_auto_columns": null,
            "grid_auto_flow": null,
            "grid_auto_rows": null,
            "grid_column": null,
            "grid_gap": null,
            "grid_row": null,
            "grid_template_areas": null,
            "grid_template_columns": null,
            "grid_template_rows": null,
            "height": null,
            "justify_content": null,
            "justify_items": null,
            "left": null,
            "margin": null,
            "max_height": null,
            "max_width": null,
            "min_height": null,
            "min_width": null,
            "object_fit": null,
            "object_position": null,
            "order": null,
            "overflow": null,
            "overflow_x": null,
            "overflow_y": null,
            "padding": null,
            "right": null,
            "top": null,
            "visibility": null,
            "width": null
          }
        },
        "0cfa956654a8481da16d193260c602c7": {
          "model_module": "@jupyter-widgets/controls",
          "model_name": "DescriptionStyleModel",
          "model_module_version": "1.5.0",
          "state": {
            "_model_module": "@jupyter-widgets/controls",
            "_model_module_version": "1.5.0",
            "_model_name": "DescriptionStyleModel",
            "_view_count": null,
            "_view_module": "@jupyter-widgets/base",
            "_view_module_version": "1.2.0",
            "_view_name": "StyleView",
            "description_width": ""
          }
        }
      }
    }
  },
  "nbformat": 4,
  "nbformat_minor": 0
}