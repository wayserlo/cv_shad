{
  "nbformat": 4,
  "nbformat_minor": 0,
  "metadata": {
    "colab": {
      "provenance": []
    },
    "kernelspec": {
      "name": "python3",
      "display_name": "Python 3"
    },
    "language_info": {
      "name": "python"
    }
  },
  "cells": [
    {
      "cell_type": "code",
      "source": [
        "import numpy as np"
      ],
      "metadata": {
        "id": "QExmo1uR9zZX"
      },
      "execution_count": 1,
      "outputs": []
    },
    {
      "cell_type": "code",
      "execution_count": 2,
      "metadata": {
        "id": "VgyzWKqy9q02"
      },
      "outputs": [],
      "source": [
        "a = np.arange(24)"
      ]
    },
    {
      "cell_type": "code",
      "source": [
        "a =a.reshape(2,3,4)"
      ],
      "metadata": {
        "id": "ikHaThlJ9_Lu"
      },
      "execution_count": 3,
      "outputs": []
    },
    {
      "cell_type": "code",
      "source": [
        "a"
      ],
      "metadata": {
        "colab": {
          "base_uri": "https://localhost:8080/"
        },
        "id": "V9ZMgMlt-AVU",
        "outputId": "c1be5a5d-b2d5-480f-adba-2d3975cea374"
      },
      "execution_count": 4,
      "outputs": [
        {
          "output_type": "execute_result",
          "data": {
            "text/plain": [
              "array([[[ 0,  1,  2,  3],\n",
              "        [ 4,  5,  6,  7],\n",
              "        [ 8,  9, 10, 11]],\n",
              "\n",
              "       [[12, 13, 14, 15],\n",
              "        [16, 17, 18, 19],\n",
              "        [20, 21, 22, 23]]])"
            ]
          },
          "metadata": {},
          "execution_count": 4
        }
      ]
    },
    {
      "cell_type": "code",
      "source": [
        "a_del = np.delete(a, -1, 2)\n",
        "a_del"
      ],
      "metadata": {
        "colab": {
          "base_uri": "https://localhost:8080/"
        },
        "id": "bei57V8Y8zC4",
        "outputId": "50157617-abca-453f-9bf2-5edcfffc0d2e"
      },
      "execution_count": 5,
      "outputs": [
        {
          "output_type": "execute_result",
          "data": {
            "text/plain": [
              "array([[[ 0,  1,  2],\n",
              "        [ 4,  5,  6],\n",
              "        [ 8,  9, 10]],\n",
              "\n",
              "       [[12, 13, 14],\n",
              "        [16, 17, 18],\n",
              "        [20, 21, 22]]])"
            ]
          },
          "metadata": {},
          "execution_count": 5
        }
      ]
    },
    {
      "cell_type": "code",
      "source": [
        "a[..., 1]"
      ],
      "metadata": {
        "colab": {
          "base_uri": "https://localhost:8080/"
        },
        "id": "SeNNq7tv-E6K",
        "outputId": "9e43012c-e05f-465f-8a0b-416fb67f54f7"
      },
      "execution_count": 6,
      "outputs": [
        {
          "output_type": "execute_result",
          "data": {
            "text/plain": [
              "array([[ 1,  5,  9],\n",
              "       [13, 17, 21]])"
            ]
          },
          "metadata": {},
          "execution_count": 6
        }
      ]
    },
    {
      "cell_type": "code",
      "source": [
        "a"
      ],
      "metadata": {
        "colab": {
          "base_uri": "https://localhost:8080/"
        },
        "id": "t5c6cgg1Ap5F",
        "outputId": "9a2b9c7d-f46d-42d8-8964-69d191b5332d"
      },
      "execution_count": 7,
      "outputs": [
        {
          "output_type": "execute_result",
          "data": {
            "text/plain": [
              "array([[[ 0,  1,  2,  3],\n",
              "        [ 4,  5,  6,  7],\n",
              "        [ 8,  9, 10, 11]],\n",
              "\n",
              "       [[12, 13, 14, 15],\n",
              "        [16, 17, 18, 19],\n",
              "        [20, 21, 22, 23]]])"
            ]
          },
          "metadata": {},
          "execution_count": 7
        }
      ]
    },
    {
      "cell_type": "code",
      "source": [
        "b = np.array([[0, 1], [0,0]])\n",
        "np.tile(b, (2, 2))"
      ],
      "metadata": {
        "colab": {
          "base_uri": "https://localhost:8080/"
        },
        "id": "z39FDRPJtW3h",
        "outputId": "6c5a9802-7b54-41d4-b9e3-163c84b8cbfa"
      },
      "execution_count": 8,
      "outputs": [
        {
          "output_type": "execute_result",
          "data": {
            "text/plain": [
              "array([[0, 1, 0, 1],\n",
              "       [0, 0, 0, 0],\n",
              "       [0, 1, 0, 1],\n",
              "       [0, 0, 0, 0]])"
            ]
          },
          "metadata": {},
          "execution_count": 8
        }
      ]
    },
    {
      "cell_type": "code",
      "source": [
        "b = b[None, None]"
      ],
      "metadata": {
        "id": "ad_vvXhStf8P"
      },
      "execution_count": 9,
      "outputs": []
    },
    {
      "cell_type": "code",
      "source": [
        "b.shape"
      ],
      "metadata": {
        "colab": {
          "base_uri": "https://localhost:8080/"
        },
        "id": "lFWwPn-6tkQA",
        "outputId": "9ee7c827-4b2d-4155-caaa-79dd4853f818"
      },
      "execution_count": 10,
      "outputs": [
        {
          "output_type": "execute_result",
          "data": {
            "text/plain": [
              "(1, 1, 2, 2)"
            ]
          },
          "metadata": {},
          "execution_count": 10
        }
      ]
    },
    {
      "cell_type": "code",
      "source": [
        "c = np.array([[1],[2],[3]])\n",
        "d = np.array([[2],[3],[4]])\n",
        "e = np.dstack((c,d))\n",
        "e.shape"
      ],
      "metadata": {
        "colab": {
          "base_uri": "https://localhost:8080/"
        },
        "id": "uT0LbZ1YzZ2N",
        "outputId": "b1083ba9-c6cd-444a-f4c2-419225a39b6a"
      },
      "execution_count": 11,
      "outputs": [
        {
          "output_type": "execute_result",
          "data": {
            "text/plain": [
              "(3, 1, 2)"
            ]
          },
          "metadata": {},
          "execution_count": 11
        }
      ]
    },
    {
      "cell_type": "markdown",
      "source": [
        "## RGB маска"
      ],
      "metadata": {
        "id": "OMGEraXMCBJa"
      }
    },
    {
      "cell_type": "code",
      "source": [
        "def get_bayer_masks(n_rows, n_cols):\n",
        "  rows = n_rows // 2 + n_rows % 2\n",
        "  cols = n_cols // 2 + n_cols % 2\n",
        "  red = np.array([[0, 1], [0,0]], dtype=bool)\n",
        "  red = np.tile(red, (rows, cols))\n",
        "  green = np.array([[1, 0], [0,1]], dtype=bool)\n",
        "  green = np.tile(green, (rows, cols))\n",
        "  blue = np.array([[0, 0], [1,0]], dtype=bool)\n",
        "  blue = np.tile(blue, (rows, cols))\n",
        "  if n_rows % 2 != 0:   #suboptimal way of working with odd matrices\n",
        "    red = np.delete(red, -1, 0)\n",
        "    green = np.delete(green, -1, 0)\n",
        "    blue = np.delete(blue, -1, 0)\n",
        "  if n_cols % 2 != 0:\n",
        "    red = np.delete(red, -1, 1)\n",
        "    green = np.delete(green, -1, 1)\n",
        "    blue = np.delete(blue, -1, 1)\n",
        "  return np.dstack((red, green, blue))"
      ],
      "metadata": {
        "id": "Ff1x9rOyAurP"
      },
      "execution_count": 12,
      "outputs": []
    },
    {
      "cell_type": "code",
      "source": [
        "bayer_mask = get_bayer_masks(3, 3)"
      ],
      "metadata": {
        "id": "96QYQQqmtjLQ"
      },
      "execution_count": 13,
      "outputs": []
    },
    {
      "cell_type": "code",
      "source": [
        "bayer_mask[..., ]"
      ],
      "metadata": {
        "colab": {
          "base_uri": "https://localhost:8080/"
        },
        "id": "RnlYlxtn1JIJ",
        "outputId": "eaf586ec-75fa-4cc0-a310-211748fe6425"
      },
      "execution_count": 14,
      "outputs": [
        {
          "output_type": "execute_result",
          "data": {
            "text/plain": [
              "array([[[False,  True, False],\n",
              "        [ True, False, False],\n",
              "        [False,  True, False]],\n",
              "\n",
              "       [[False, False,  True],\n",
              "        [False,  True, False],\n",
              "        [False, False,  True]],\n",
              "\n",
              "       [[False,  True, False],\n",
              "        [ True, False, False],\n",
              "        [False,  True, False]]])"
            ]
          },
          "metadata": {},
          "execution_count": 14
        }
      ]
    },
    {
      "cell_type": "code",
      "source": [
        "from numpy import *\n",
        "gt_masks = zeros((3, 3, 3), 'bool')\n",
        "gt_masks[..., 0] = array([[0, 1, 0],\n",
        "                          [0, 0, 0],\n",
        "                          [0, 1, 0]])\n",
        "gt_masks[..., 1] = array([[1, 0, 1],\n",
        "                          [0, 1, 0],\n",
        "                          [1, 0, 1]])\n",
        "gt_masks[..., 2] = array([[0, 0, 0],\n",
        "                          [1, 0, 1],\n",
        "                          [0, 0, 0]])\n",
        "gt_masks"
      ],
      "metadata": {
        "colab": {
          "base_uri": "https://localhost:8080/"
        },
        "id": "DTCzDOVf5L1E",
        "outputId": "3910ec55-4ec5-43a0-9f25-5d0d0d9049ba"
      },
      "execution_count": 15,
      "outputs": [
        {
          "output_type": "execute_result",
          "data": {
            "text/plain": [
              "array([[[False,  True, False],\n",
              "        [ True, False, False],\n",
              "        [False,  True, False]],\n",
              "\n",
              "       [[False, False,  True],\n",
              "        [False,  True, False],\n",
              "        [False, False,  True]],\n",
              "\n",
              "       [[False,  True, False],\n",
              "        [ True, False, False],\n",
              "        [False,  True, False]]])"
            ]
          },
          "metadata": {},
          "execution_count": 15
        }
      ]
    },
    {
      "cell_type": "code",
      "source": [],
      "metadata": {
        "id": "A7OBXx3TCJ_b"
      },
      "execution_count": 15,
      "outputs": []
    },
    {
      "cell_type": "markdown",
      "source": [
        "##ТРехканальное изображение"
      ],
      "metadata": {
        "id": "OekXoW2-CKUs"
      }
    },
    {
      "cell_type": "code",
      "source": [
        "raw_im = np.arange(32).reshape(4,8)\n",
        "raw_im"
      ],
      "metadata": {
        "colab": {
          "base_uri": "https://localhost:8080/"
        },
        "id": "Fom6yH2BU7z7",
        "outputId": "f2101e4c-353f-4279-f590-a6de1ec1e321"
      },
      "execution_count": 16,
      "outputs": [
        {
          "output_type": "execute_result",
          "data": {
            "text/plain": [
              "array([[ 0,  1,  2,  3,  4,  5,  6,  7],\n",
              "       [ 8,  9, 10, 11, 12, 13, 14, 15],\n",
              "       [16, 17, 18, 19, 20, 21, 22, 23],\n",
              "       [24, 25, 26, 27, 28, 29, 30, 31]])"
            ]
          },
          "metadata": {},
          "execution_count": 16
        }
      ]
    },
    {
      "cell_type": "code",
      "source": [
        "def get_colored_img(raw_img):\n",
        "  mask = get_bayer_masks(raw_img.shape[0], raw_img.shape[1])\n",
        "  raw_image = np.dstack((raw_img, raw_img, raw_img))\n",
        "  return mask * raw_image"
      ],
      "metadata": {
        "id": "Rm23WSbw_BDn"
      },
      "execution_count": 17,
      "outputs": []
    },
    {
      "cell_type": "code",
      "source": [
        "rgb = get_colored_img(raw_im)\n",
        "rgb[:,:,2]"
      ],
      "metadata": {
        "colab": {
          "base_uri": "https://localhost:8080/"
        },
        "id": "dfFJ78G9U7T8",
        "outputId": "024d6282-427f-455f-93cf-1b026f60fc4e"
      },
      "execution_count": 18,
      "outputs": [
        {
          "output_type": "execute_result",
          "data": {
            "text/plain": [
              "array([[ 0,  0,  0,  0,  0,  0,  0,  0],\n",
              "       [ 8,  0, 10,  0, 12,  0, 14,  0],\n",
              "       [ 0,  0,  0,  0,  0,  0,  0,  0],\n",
              "       [24,  0, 26,  0, 28,  0, 30,  0]])"
            ]
          },
          "metadata": {},
          "execution_count": 18
        }
      ]
    },
    {
      "cell_type": "markdown",
      "source": [
        "##Билинейная интерполяция"
      ],
      "metadata": {
        "id": "qbN4CRapaKVd"
      }
    },
    {
      "cell_type": "code",
      "source": [
        "x = np.array([[1., 2.], [np.nan, 3.], [np.nan, np.nan]])\n",
        "np.mean(x[~np.isnan(x)])"
      ],
      "metadata": {
        "colab": {
          "base_uri": "https://localhost:8080/"
        },
        "id": "Vq-GwFedhrFE",
        "outputId": "7c863e00-9c43-4f40-f69f-1863448460c7"
      },
      "execution_count": 19,
      "outputs": [
        {
          "output_type": "execute_result",
          "data": {
            "text/plain": [
              "2.0"
            ]
          },
          "metadata": {},
          "execution_count": 19
        }
      ]
    },
    {
      "cell_type": "code",
      "source": [
        "mask = get_bayer_masks(raw_im.shape[0], raw_im.shape[1])\n",
        "print(mask[0:3, 0:3, 0])\n",
        "print(raw_im * mask[..., 0])\n",
        "print(raw_im[0:3, 0:3][mask[0:3, 0:3, 0]])\n",
        "print(np.mean(raw_im[0:3, 0:3][mask[0:3, 0:3, 0]]))"
      ],
      "metadata": {
        "colab": {
          "base_uri": "https://localhost:8080/"
        },
        "id": "BB8uSU9vkg1a",
        "outputId": "d7e0b5a5-936e-487b-93c5-6d4905eb9869"
      },
      "execution_count": 20,
      "outputs": [
        {
          "output_type": "stream",
          "name": "stdout",
          "text": [
            "[[False  True False]\n",
            " [False False False]\n",
            " [False  True False]]\n",
            "[[ 0  1  0  3  0  5  0  7]\n",
            " [ 0  0  0  0  0  0  0  0]\n",
            " [ 0 17  0 19  0 21  0 23]\n",
            " [ 0  0  0  0  0  0  0  0]]\n",
            "[ 1 17]\n",
            "9.0\n"
          ]
        }
      ]
    },
    {
      "cell_type": "code",
      "source": [
        "np.uint8(3.65)"
      ],
      "metadata": {
        "colab": {
          "base_uri": "https://localhost:8080/"
        },
        "id": "elCscREis2zt",
        "outputId": "9804ce88-58e1-4e8b-a59b-099c778f4ceb"
      },
      "execution_count": 21,
      "outputs": [
        {
          "output_type": "execute_result",
          "data": {
            "text/plain": [
              "3"
            ]
          },
          "metadata": {},
          "execution_count": 21
        }
      ]
    },
    {
      "cell_type": "code",
      "source": [
        "from scipy.signal import convolve2d"
      ],
      "metadata": {
        "id": "2EBLozvULB7d"
      },
      "execution_count": 22,
      "outputs": []
    },
    {
      "cell_type": "code",
      "source": [
        "def bilinear_interpolation(colored_img):\n",
        "  mask = get_bayer_masks(colored_img.shape[0], colored_img.shape[1])\n",
        "  interpolated_image= colored_img.copy()\n",
        "  kernel_rb = np.array([[0.25, 0.5, 0.25], [0.5, 1, 0.5], [0.25, 0.5, 0.25]])\n",
        "  kernel_g = np.array([[0, 0.25, 0], [0.25, 1, 0.25], [0, 0.25, 0]])\n",
        "  interpolated_image[..., 0] = np.uint8(convolve2d(colored_img[..., 0], kernel_rb, mode='same', boundary='fill', fillvalue=0))\n",
        "  interpolated_image[..., 1] = np.uint8(convolve2d(colored_img[..., 1], kernel_g, mode='same', boundary='fill', fillvalue=0))\n",
        "  interpolated_image[..., 2] = np.uint8(convolve2d(colored_img[..., 2], kernel_rb, mode='same', boundary='fill', fillvalue=0))\n",
        "  return interpolated_image"
      ],
      "metadata": {
        "id": "Pq-Dl3rVaa_4"
      },
      "execution_count": 23,
      "outputs": []
    },
    {
      "cell_type": "code",
      "source": [
        "interpolated = bilinear_interpolation(rgb)\n",
        "interpolated[..., 2]"
      ],
      "metadata": {
        "colab": {
          "base_uri": "https://localhost:8080/"
        },
        "id": "7dVoaGJ1tBTM",
        "outputId": "c7fbe7c4-b4aa-4059-9852-b9dbbb376252"
      },
      "execution_count": 24,
      "outputs": [
        {
          "output_type": "execute_result",
          "data": {
            "text/plain": [
              "array([[ 4,  4,  5,  5,  6,  6,  7,  3],\n",
              "       [ 8,  9, 10, 11, 12, 13, 14,  7],\n",
              "       [16, 17, 18, 19, 20, 21, 22, 11],\n",
              "       [24, 25, 26, 27, 28, 29, 30, 15]])"
            ]
          },
          "metadata": {},
          "execution_count": 24
        }
      ]
    },
    {
      "cell_type": "code",
      "source": [
        "def old_bilinear_interpolation(colored_img):\n",
        "   print(colored_img.shape)\n",
        "   mask = get_bayer_masks(colored_img.shape[0], colored_img.shape[1])\n",
        "   interpolated_image = colored_img.copy()\n",
        "   for k in range(colored_img.shape[2]):\n",
        "     for j in range(1, colored_img.shape[1]-1):\n",
        "       for i in range(1, colored_img.shape[0]-1):\n",
        "         if mask[i,j,k] == True:\n",
        "           continue\n",
        "         else:\n",
        "           interpolated_image[i,j,k] = np.uint8(np.mean(colored_img[i-1:i+2,     j-1:j+2, k][mask[i-1:i+2, j-1:j+2, k]]))\n",
        "   return interpolated_image"
      ],
      "metadata": {
        "id": "P0-gNhzNMy6v"
      },
      "execution_count": 25,
      "outputs": []
    },
    {
      "cell_type": "code",
      "source": [
        "old_interpolated = old_bilinear_interpolation(rgb)\n",
        "old_interpolated[..., 2]"
      ],
      "metadata": {
        "colab": {
          "base_uri": "https://localhost:8080/"
        },
        "id": "dk6DdN7NM7_n",
        "outputId": "0aa876fe-850f-4ecc-884b-0aedcdd5a4ef"
      },
      "execution_count": 26,
      "outputs": [
        {
          "output_type": "stream",
          "name": "stdout",
          "text": [
            "(4, 8, 3)\n"
          ]
        },
        {
          "output_type": "execute_result",
          "data": {
            "text/plain": [
              "array([[ 0,  0,  0,  0,  0,  0,  0,  0],\n",
              "       [ 8,  9, 10, 11, 12, 13, 14,  0],\n",
              "       [ 0, 17, 18, 19, 20, 21, 22,  0],\n",
              "       [24,  0, 26,  0, 28,  0, 30,  0]])"
            ]
          },
          "metadata": {},
          "execution_count": 26
        }
      ]
    },
    {
      "cell_type": "code",
      "source": [
        "s = np.array([[0.25, 0.5, 0.25], [0.5, 1, 0.5], [0.25, 0.5, 0.25]])\n",
        "g = np.array([[4, 0, 4], [0, 0, 0], [4, 0, 4]])\n",
        "\n",
        "res = convolve2d(g, s, mode='same', boundary='fill', fillvalue=0)\n",
        "res"
      ],
      "metadata": {
        "colab": {
          "base_uri": "https://localhost:8080/"
        },
        "id": "dmS7tWdeByH9",
        "outputId": "ca0d163d-1fd7-4487-f850-54fbad98335e"
      },
      "execution_count": 27,
      "outputs": [
        {
          "output_type": "execute_result",
          "data": {
            "text/plain": [
              "array([[4., 4., 4.],\n",
              "       [4., 4., 4.],\n",
              "       [4., 4., 4.]])"
            ]
          },
          "metadata": {},
          "execution_count": 27
        }
      ]
    },
    {
      "cell_type": "markdown",
      "source": [
        "##Улучшенная линейная интерполяция"
      ],
      "metadata": {
        "id": "ddhJ-LElOp2T"
      }
    },
    {
      "cell_type": "code",
      "source": [
        "def improved_interpolation(raw_img):\n",
        "  alpha = 0.5\n",
        "  beta = 0.625\n",
        "  gamma = 0.75\n",
        "  colored_img = get_colored_img(raw_img)\n",
        "  kernel_g_rb = np.array([[0,0,-0.25,0,0], [0,0,0,0,0], [-0.25,0,1,0,-0.25], [0,0,0,0,0], [0,0,-0.25,0,0]])\n",
        "  improved = np.float64(bilinear_interpolation(colored_img))\n",
        "\n",
        "  #Блок с поправкой green color в R+B ячейках\n",
        "  delta_gr = convolve2d(colored_img[..., 0], kernel_g_rb, mode='same', boundary='fill', fillvalue=0)\n",
        "  delta_gb = convolve2d(colored_img[..., 2], kernel_g_rb, mode='same', boundary='fill', fillvalue=0)\n",
        "  improved[..., 1] += alpha * (delta_gr + delta_gb) #с green закончили\n",
        "\n",
        "  #Блок с корректировкой красного и голубого цветов, но в ячейках зеленого цвета\n",
        "  kernel_rb_g_horizontal = np.array([[0,0,0.1,0,0], [0,-0.2,0,-0.2,0], [-0.2,0,1,0,-0.2], [0,-0.2,0,-0.2,0], [0,0,0.1,0,0]])\n",
        "  kernel_rb_g_vertical = np.array([[0,0,-0.2,0,0], [0,-0.2,0,-0.2,0], [0.1,0,1,0,0.1], [0,-0.2,0,-0.2,0], [0,0,-0.2,0,0]])\n",
        "  delta_rg_horizontal = convolve2d(colored_img[..., 1], kernel_rb_g_horizontal, mode='same', boundary='fill', fillvalue=0)\n",
        "  delta_rg_horizontal[1::2] = 0\n",
        "  delta_rg_vertical = convolve2d(colored_img[..., 1], kernel_rb_g_vertical, mode='same', boundary='fill', fillvalue=0)\n",
        "  delta_rg_vertical[::2] = 0\n",
        "  improved[..., 0] += beta * (delta_rg_horizontal + delta_rg_vertical) #поправка red в точках green\n",
        "\n",
        "\n",
        "  delta_bg_horizontal = convolve2d(colored_img[..., 1], kernel_rb_g_horizontal, mode='same', boundary='fill', fillvalue=0)\n",
        "  delta_bg_horizontal[::2] = 0\n",
        "  delta_bg_vertical = convolve2d(colored_img[..., 1], kernel_rb_g_vertical, mode='same', boundary='fill', fillvalue=0)\n",
        "  delta_bg_vertical[1::2] = 0\n",
        "  improved[..., 2] += beta * (delta_bg_horizontal + delta_bg_vertical) #поправка blue в точках green\n",
        "\n",
        "  #поправка RB в BR\n",
        "  kernel_rb_br = np.array([[0,0,-0.25,0,0], [0,0,0,0,0], [-0.25,0,1,0,-0.25], [0,0,0,0,0], [0,0,-0.25,0,0]])\n",
        "  delta_r_b = convolve2d(colored_img[..., 2], kernel_rb_br, mode='same', boundary='fill', fillvalue=0)\n",
        "  improved[...,0] += gamma * delta_r_b #закончили с красным\n",
        "\n",
        "  delta_b_r = convolve2d(colored_img[..., 0], kernel_rb_br, mode='same', boundary='fill', fillvalue=0)\n",
        "  improved[...,2] += gamma * delta_b_r #закончили с синим\n",
        "  return np.uint8(np.clip(improved, 0, 255))"
      ],
      "metadata": {
        "id": "4V0P5aJ3Ou1T"
      },
      "execution_count": 46,
      "outputs": []
    },
    {
      "cell_type": "code",
      "source": [
        "arr = np.arange(343).reshape((7,7,7))\n",
        "arr = np.uint8(np.clip(arr, 0, 255))\n",
        "arr"
      ],
      "metadata": {
        "colab": {
          "base_uri": "https://localhost:8080/"
        },
        "id": "wz_PPIB3rixZ",
        "outputId": "65d379da-ea4f-46a7-c55b-9ffefe97b118"
      },
      "execution_count": 49,
      "outputs": [
        {
          "output_type": "execute_result",
          "data": {
            "text/plain": [
              "array([[[  0,   1,   2,   3,   4,   5,   6],\n",
              "        [  7,   8,   9,  10,  11,  12,  13],\n",
              "        [ 14,  15,  16,  17,  18,  19,  20],\n",
              "        [ 21,  22,  23,  24,  25,  26,  27],\n",
              "        [ 28,  29,  30,  31,  32,  33,  34],\n",
              "        [ 35,  36,  37,  38,  39,  40,  41],\n",
              "        [ 42,  43,  44,  45,  46,  47,  48]],\n",
              "\n",
              "       [[ 49,  50,  51,  52,  53,  54,  55],\n",
              "        [ 56,  57,  58,  59,  60,  61,  62],\n",
              "        [ 63,  64,  65,  66,  67,  68,  69],\n",
              "        [ 70,  71,  72,  73,  74,  75,  76],\n",
              "        [ 77,  78,  79,  80,  81,  82,  83],\n",
              "        [ 84,  85,  86,  87,  88,  89,  90],\n",
              "        [ 91,  92,  93,  94,  95,  96,  97]],\n",
              "\n",
              "       [[ 98,  99, 100, 101, 102, 103, 104],\n",
              "        [105, 106, 107, 108, 109, 110, 111],\n",
              "        [112, 113, 114, 115, 116, 117, 118],\n",
              "        [119, 120, 121, 122, 123, 124, 125],\n",
              "        [126, 127, 128, 129, 130, 131, 132],\n",
              "        [133, 134, 135, 136, 137, 138, 139],\n",
              "        [140, 141, 142, 143, 144, 145, 146]],\n",
              "\n",
              "       [[147, 148, 149, 150, 151, 152, 153],\n",
              "        [154, 155, 156, 157, 158, 159, 160],\n",
              "        [161, 162, 163, 164, 165, 166, 167],\n",
              "        [168, 169, 170, 171, 172, 173, 174],\n",
              "        [175, 176, 177, 178, 179, 180, 181],\n",
              "        [182, 183, 184, 185, 186, 187, 188],\n",
              "        [189, 190, 191, 192, 193, 194, 195]],\n",
              "\n",
              "       [[196, 197, 198, 199, 200, 201, 202],\n",
              "        [203, 204, 205, 206, 207, 208, 209],\n",
              "        [210, 211, 212, 213, 214, 215, 216],\n",
              "        [217, 218, 219, 220, 221, 222, 223],\n",
              "        [224, 225, 226, 227, 228, 229, 230],\n",
              "        [231, 232, 233, 234, 235, 236, 237],\n",
              "        [238, 239, 240, 241, 242, 243, 244]],\n",
              "\n",
              "       [[245, 246, 247, 248, 249, 250, 251],\n",
              "        [252, 253, 254, 255, 255, 255, 255],\n",
              "        [255, 255, 255, 255, 255, 255, 255],\n",
              "        [255, 255, 255, 255, 255, 255, 255],\n",
              "        [255, 255, 255, 255, 255, 255, 255],\n",
              "        [255, 255, 255, 255, 255, 255, 255],\n",
              "        [255, 255, 255, 255, 255, 255, 255]],\n",
              "\n",
              "       [[255, 255, 255, 255, 255, 255, 255],\n",
              "        [255, 255, 255, 255, 255, 255, 255],\n",
              "        [255, 255, 255, 255, 255, 255, 255],\n",
              "        [255, 255, 255, 255, 255, 255, 255],\n",
              "        [255, 255, 255, 255, 255, 255, 255],\n",
              "        [255, 255, 255, 255, 255, 255, 255],\n",
              "        [255, 255, 255, 255, 255, 255, 255]]], dtype=uint8)"
            ]
          },
          "metadata": {},
          "execution_count": 49
        }
      ]
    },
    {
      "cell_type": "code",
      "source": [
        "raw_img = array([[8, 5, 3, 7, 1, 3],\n",
        "                         [5, 2, 6, 8, 8, 1],\n",
        "                         [9, 9, 8, 1, 6, 4],\n",
        "                         [9, 4, 2, 3, 6, 8],\n",
        "                         [5, 4, 3, 2, 8, 7],\n",
        "                         [7, 3, 3, 6, 9, 3]], dtype='uint8')\n"
      ],
      "metadata": {
        "colab": {
          "base_uri": "https://localhost:8080/",
          "height": 214
        },
        "id": "XBT6DGkc06R5",
        "outputId": "cf3a0e8a-0360-475e-c71f-c8d4e1e89afc"
      },
      "execution_count": 55,
      "outputs": [
        {
          "output_type": "error",
          "ename": "AttributeError",
          "evalue": "ignored",
          "traceback": [
            "\u001b[0;31m---------------------------------------------------------------------------\u001b[0m",
            "\u001b[0;31mAttributeError\u001b[0m                            Traceback (most recent call last)",
            "\u001b[0;32m<ipython-input-55-cf6b8473398f>\u001b[0m in \u001b[0;36m<cell line: 7>\u001b[0;34m()\u001b[0m\n\u001b[1;32m      5\u001b[0m                          \u001b[0;34m[\u001b[0m\u001b[0;36m5\u001b[0m\u001b[0;34m,\u001b[0m \u001b[0;36m4\u001b[0m\u001b[0;34m,\u001b[0m \u001b[0;36m3\u001b[0m\u001b[0;34m,\u001b[0m \u001b[0;36m2\u001b[0m\u001b[0;34m,\u001b[0m \u001b[0;36m8\u001b[0m\u001b[0;34m,\u001b[0m \u001b[0;36m7\u001b[0m\u001b[0;34m]\u001b[0m\u001b[0;34m,\u001b[0m\u001b[0;34m\u001b[0m\u001b[0;34m\u001b[0m\u001b[0m\n\u001b[1;32m      6\u001b[0m                          [7, 3, 3, 6, 9, 3]], dtype='uint8')\n\u001b[0;32m----> 7\u001b[0;31m \u001b[0mraw_img\u001b[0m\u001b[0;34m.\u001b[0m\u001b[0mtype\u001b[0m\u001b[0;34m(\u001b[0m\u001b[0;34m)\u001b[0m\u001b[0;34m\u001b[0m\u001b[0;34m\u001b[0m\u001b[0m\n\u001b[0m",
            "\u001b[0;31mAttributeError\u001b[0m: 'numpy.ndarray' object has no attribute 'type'"
          ]
        }
      ]
    },
    {
      "cell_type": "markdown",
      "source": [
        "##Метрика PSNR"
      ],
      "metadata": {
        "id": "wTSPrnnxAWOM"
      }
    },
    {
      "cell_type": "code",
      "source": [
        "from skimage.metrics import mean_squared_error"
      ],
      "metadata": {
        "id": "RHSydVixCyo7"
      },
      "execution_count": 52,
      "outputs": []
    },
    {
      "cell_type": "code",
      "source": [
        "def compute_psnr(img_pred, img_gt):\n",
        "  mse = np.sum((np.float64(img_pred) - np.float64(img_gt)) ** 2) / np.prod(img_pred.shape)\n",
        "  if mse == 0:\n",
        "    raise ValueError(\"MSE is zero!\")\n",
        "  return 10 * np.log10((np.max(np.float64(img_gt)) ** 2 )/ mse)"
      ],
      "metadata": {
        "id": "MXKqa0CDAaWZ"
      },
      "execution_count": 56,
      "outputs": []
    },
    {
      "cell_type": "code",
      "source": [],
      "metadata": {
        "id": "SZiskBk3IJzH"
      },
      "execution_count": null,
      "outputs": []
    }
  ]
}